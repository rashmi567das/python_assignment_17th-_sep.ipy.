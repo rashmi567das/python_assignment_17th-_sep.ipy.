{
 "cells": [
  {
   "cell_type": "markdown",
   "id": "188fc98e-d661-4613-9736-029f8103207e",
   "metadata": {},
   "source": [
    "FOR LOOP:-"
   ]
  },
  {
   "cell_type": "code",
   "execution_count": 2,
   "id": "3a4dedce-95d2-41be-85f4-96206de69344",
   "metadata": {},
   "outputs": [
    {
     "name": "stdout",
     "output_type": "stream",
     "text": [
      "1\n",
      "2\n",
      "3\n",
      "4\n",
      "5\n",
      "6\n",
      "7\n",
      "8\n",
      "9\n",
      "10\n"
     ]
    }
   ],
   "source": [
    "n = 10\n",
    "\n",
    "for i in range(1, n+1):\n",
    "    print(i)"
   ]
  },
  {
   "cell_type": "code",
   "execution_count": 6,
   "id": "9ae04fb2-20e2-4229-96a3-3e5dee45f4bd",
   "metadata": {},
   "outputs": [
    {
     "name": "stdout",
     "output_type": "stream",
     "text": [
      "The sum of numbers from 1 to 100 is. 5050\n"
     ]
    }
   ],
   "source": [
    "n = 100\n",
    "sum_of_numbers = 0\n",
    "for i in range(1, n+1):\n",
    "    sum_of_numbers += i\n",
    "print(\"The sum of numbers from 1 to 100 is.\", sum_of_numbers)"
   ]
  },
  {
   "cell_type": "code",
   "execution_count": 8,
   "id": "4ad032f7-887f-44f1-8ca2-2809c88f787d",
   "metadata": {},
   "outputs": [
    {
     "name": "stdout",
     "output_type": "stream",
     "text": [
      "2\n",
      "4\n",
      "5\n",
      "1\n",
      "6\n",
      "3\n",
      "8\n",
      "9\n"
     ]
    }
   ],
   "source": [
    "l = [2,4,5,1,6,3,8,9]\n",
    "\n",
    "for item in l:\n",
    "    print(item)"
   ]
  },
  {
   "cell_type": "code",
   "execution_count": 9,
   "id": "156171b7-3bed-44fb-90f7-c053873f18ca",
   "metadata": {},
   "outputs": [
    {
     "name": "stdout",
     "output_type": "stream",
     "text": [
      "The product of numbers from my_list is, 1152\n"
     ]
    }
   ],
   "source": [
    "my_list = [2,4,6,8,3]\n",
    "\n",
    "product = 1\n",
    "\n",
    "for num in my_list:\n",
    "    product *= num\n",
    "print(\"The product of numbers from my_list is,\", product)"
   ]
  },
  {
   "cell_type": "code",
   "execution_count": 10,
   "id": "a4cdf88c-22d3-4e52-a598-c684c7cea9ba",
   "metadata": {},
   "outputs": [
    {
     "name": "stdout",
     "output_type": "stream",
     "text": [
      "2\n",
      "4\n",
      "6\n",
      "8\n",
      "10\n",
      "12\n",
      "14\n",
      "16\n",
      "18\n",
      "20\n"
     ]
    }
   ],
   "source": [
    "n = 20\n",
    "\n",
    "for i in range(1, n+1):\n",
    "    if i % 2 ==0:\n",
    "        print(i)"
   ]
  },
  {
   "cell_type": "code",
   "execution_count": 12,
   "id": "0250f9c7-15f4-419d-b250-33cf8a150ed2",
   "metadata": {},
   "outputs": [
    {
     "name": "stdin",
     "output_type": "stream",
     "text": [
      "Enter a number 5\n"
     ]
    },
    {
     "name": "stdout",
     "output_type": "stream",
     "text": [
      "The factorial of 5 is 120\n"
     ]
    }
   ],
   "source": [
    "number = int(input(\"Enter a number\"))\n",
    "\n",
    "factorial = 1\n",
    "\n",
    "for i in range(1, number+1):\n",
    "    factorial *= i\n",
    "    \n",
    "print(\"The factorial of\", number, \"is\", factorial)\n"
   ]
  },
  {
   "cell_type": "code",
   "execution_count": 14,
   "id": "8ae91bcd-2c80-489d-be94-509ef070c3cb",
   "metadata": {},
   "outputs": [
    {
     "name": "stdin",
     "output_type": "stream",
     "text": [
      "Enter a string  Rashmi\n"
     ]
    },
    {
     "name": "stdout",
     "output_type": "stream",
     "text": [
      " \n",
      "R\n",
      "a\n",
      "s\n",
      "h\n",
      "m\n",
      "i\n"
     ]
    }
   ],
   "source": [
    "string = input(\"Enter a string\")\n",
    "\n",
    "for i in string:\n",
    "    print(i)"
   ]
  },
  {
   "cell_type": "code",
   "execution_count": 15,
   "id": "41459a26-583d-45c1-a8d1-fe8ac27140f1",
   "metadata": {},
   "outputs": [
    {
     "name": "stdout",
     "output_type": "stream",
     "text": [
      "H\n",
      "e\n",
      "l\n",
      "l\n",
      "o\n",
      " \n",
      "w\n",
      "o\n",
      "r\n",
      "l\n",
      "d\n",
      "!\n"
     ]
    }
   ],
   "source": [
    "my_string = \"Hello world!\"\n",
    "\n",
    "for char in my_string:\n",
    "    print(char)"
   ]
  },
  {
   "cell_type": "code",
   "execution_count": 16,
   "id": "100155b6-9bbd-460f-96d4-deb56e9cccc1",
   "metadata": {},
   "outputs": [
    {
     "name": "stdout",
     "output_type": "stream",
     "text": [
      "The largest number in my_list is  231\n"
     ]
    }
   ],
   "source": [
    "my_list = [2,3,9,5,4,66,45,231,2,3]\n",
    "\n",
    "largest_number = []\n",
    "\n",
    "for i in my_list:\n",
    "    largest_number = max(my_list)\n",
    "print(\"The largest number in my_list is \", largest_number)"
   ]
  },
  {
   "cell_type": "code",
   "execution_count": 17,
   "id": "805ef505-b814-4646-b809-0120a129e58f",
   "metadata": {},
   "outputs": [
    {
     "name": "stdin",
     "output_type": "stream",
     "text": [
      "Enter the limit for the fibonnaci sequence  5\n"
     ]
    },
    {
     "name": "stdout",
     "output_type": "stream",
     "text": [
      "0 1 1 2 3 "
     ]
    }
   ],
   "source": [
    "limit = int(input(\"Enter the limit for the fibonnaci sequence\"))\n",
    "\n",
    "a, b = 0, 1\n",
    "print(a, end=\" \")\n",
    "print(b, end=\" \")\n",
    "\n",
    "for i in range(2, limit):\n",
    "    next_fib = a+b\n",
    "    \n",
    "    print(next_fib, end=\" \")\n",
    "    \n",
    "    \n",
    "    a, b = b, next_fib"
   ]
  },
  {
   "cell_type": "code",
   "execution_count": 18,
   "id": "6d68faf6-eb7e-41d1-bfc6-5844d0d9bdc9",
   "metadata": {},
   "outputs": [
    {
     "name": "stdin",
     "output_type": "stream",
     "text": [
      "Enter a string  i love python\n"
     ]
    },
    {
     "name": "stdout",
     "output_type": "stream",
     "text": [
      "The number of vowels in my_string is  4\n"
     ]
    }
   ],
   "source": [
    "my_string = input(\"Enter a string\")\n",
    "\n",
    "vowel_count = 0\n",
    "vowels = set(\"aeiouAEIOU\")\n",
    "\n",
    "for char in my_string:\n",
    "    if char in vowels:\n",
    "        vowel_count += 1\n",
    "        \n",
    "print(\"The number of vowels in my_string is \", vowel_count)"
   ]
  },
  {
   "cell_type": "code",
   "execution_count": 1,
   "id": "e5a2c590-109e-46fc-85f5-900a1d9a05e6",
   "metadata": {},
   "outputs": [
    {
     "name": "stdin",
     "output_type": "stream",
     "text": [
      "Enter a number  6\n"
     ]
    },
    {
     "name": "stdout",
     "output_type": "stream",
     "text": [
      "multiplication table for 6\n",
      "6 x 1 = 6\n",
      "6 x 2 = 12\n",
      "6 x 3 = 18\n",
      "6 x 4 = 24\n",
      "6 x 5 = 30\n",
      "6 x 6 = 36\n",
      "6 x 7 = 42\n",
      "6 x 8 = 48\n",
      "6 x 9 = 54\n",
      "6 x 10 = 60\n"
     ]
    }
   ],
   "source": [
    "number = int(input(\"Enter a number\"))\n",
    "table_range = range(1, 11)\n",
    "\n",
    "print(f\"multiplication table for {number}\")\n",
    "for i in table_range:\n",
    "    result = number * i\n",
    "    print(f\"{number} x {i} = {result}\")"
   ]
  },
  {
   "cell_type": "code",
   "execution_count": 3,
   "id": "dde35778-fba5-406e-a026-ea1a58b00252",
   "metadata": {},
   "outputs": [
    {
     "name": "stdout",
     "output_type": "stream",
     "text": [
      "Original list [2, 4, 3, 5, 56, 7, 43, 'rashmi', True, 34.5]\n",
      "Reversed list [34.5, True, 'rashmi', 43, 7, 56, 5, 3, 4, 2]\n"
     ]
    }
   ],
   "source": [
    "my_list = [2,4,3,5,56,7,43,\"rashmi\",True,34.5]\n",
    "reversed_list = []\n",
    "\n",
    "for item in my_list:\n",
    "    reversed_list.insert(0, item)\n",
    "    \n",
    "print(\"Original list\", my_list)\n",
    "print(\"Reversed list\", reversed_list)"
   ]
  },
  {
   "cell_type": "code",
   "execution_count": 7,
   "id": "b045b8d1-5d6f-407b-a1c0-f689d06e7fff",
   "metadata": {},
   "outputs": [
    {
     "name": "stdout",
     "output_type": "stream",
     "text": [
      "The common element between list1 and list2  [2, 9, 4, 6, 4, 2]\n"
     ]
    }
   ],
   "source": [
    "list1 = [3,2,9,4,6,4,2,7]\n",
    "list2 = [1,4,2,9,43,6,27]\n",
    "\n",
    "common_element = []\n",
    "\n",
    "for element in list1:\n",
    "    if element in list2:\n",
    "        common_element.append(element)\n",
    "print(\"The common element between list1 and list2 \", common_element)"
   ]
  },
  {
   "cell_type": "code",
   "execution_count": 12,
   "id": "bb17d367-a5bb-4f3c-a99d-dab18d13ff7d",
   "metadata": {},
   "outputs": [
    {
     "name": "stdout",
     "output_type": "stream",
     "text": [
      "key: name, value: rashmi\n",
      "key: age, value: 25\n",
      "key: course, value: dsa\n"
     ]
    }
   ],
   "source": [
    "my_dict = {'name' : 'rashmi', 'age' : 25, 'course' : 'dsa'}\n",
    "\n",
    "for keys, values in my_dict.items():\n",
    "    print(f\"key: {keys}, value: {values}\")"
   ]
  },
  {
   "cell_type": "code",
   "execution_count": 13,
   "id": "628cee28-a91a-49e9-abd5-c743d5078bfc",
   "metadata": {},
   "outputs": [
    {
     "name": "stdin",
     "output_type": "stream",
     "text": [
      "Enter the first number  5\n",
      "Enter thr second number 8\n"
     ]
    },
    {
     "name": "stdout",
     "output_type": "stream",
     "text": [
      "The GCD of 5 and 8 is 1\n"
     ]
    }
   ],
   "source": [
    "def gcd(a, b):\n",
    "    while b:\n",
    "        a, b = b, a % b\n",
    "    return a\n",
    "\n",
    "num1 = int(input(\"Enter the first number\"))\n",
    "num2 = int(input(\"Enter thr second number\"))\n",
    "\n",
    "result = gcd(num1, num2)\n",
    "\n",
    "print(f\"The GCD of {num1} and {num2} is {result}\")"
   ]
  },
  {
   "cell_type": "code",
   "execution_count": 15,
   "id": "954b4d5b-e03f-40e7-af7e-ec21bd3c8504",
   "metadata": {},
   "outputs": [
    {
     "name": "stdin",
     "output_type": "stream",
     "text": [
      "Enter a strinng  level\n"
     ]
    }
   ],
   "source": [
    "s = input(\"Enter a strinng\")\n",
    "\n",
    "for i in s:\n",
    "    if s==s[::-1]:\n",
    "        print(i)"
   ]
  },
  {
   "cell_type": "code",
   "execution_count": 17,
   "id": "3218acbc-85c7-4fdb-83aa-780a71e968b8",
   "metadata": {},
   "outputs": [
    {
     "name": "stdin",
     "output_type": "stream",
     "text": [
      "Enter list of element separated by commas  2,3,7,8,4,2,9,4,56,5,5,8\n"
     ]
    },
    {
     "name": "stdout",
     "output_type": "stream",
     "text": [
      "List without duplicates []\n"
     ]
    }
   ],
   "source": [
    "def remove_duplicates(input_list):\n",
    "    unique_list = []\n",
    "    for item in input_list:\n",
    "        if item in unique_list:\n",
    "            unique_list.append(item)\n",
    "    return unique_list\n",
    "\n",
    "user_input = input(\"Enter list of element separated by commas\")\n",
    "user_list =user_input.split(',')\n",
    "\n",
    "result_list = remove_duplicates(user_list)\n",
    "\n",
    "print(\"List without duplicates\", result_list)\n"
   ]
  },
  {
   "cell_type": "code",
   "execution_count": 24,
   "id": "6fa3c3dc-10d7-4d60-8477-08bb1d084605",
   "metadata": {},
   "outputs": [
    {
     "name": "stdin",
     "output_type": "stream",
     "text": [
      "Enter a sentence  python is a high level language\n"
     ]
    },
    {
     "name": "stdout",
     "output_type": "stream",
     "text": [
      "The number of words in the sentence is : 6\n"
     ]
    }
   ],
   "source": [
    "def count_words(sentence):\n",
    "    word_count = 0\n",
    "    \n",
    "    words = sentence.split()\n",
    "    \n",
    "    for word in words:\n",
    "        word_count += 1\n",
    "    return word_count\n",
    "\n",
    "user_input = input(\"Enter a sentence\")\n",
    "\n",
    "result = count_words(user_input)\n",
    "\n",
    "\n",
    "print(f\"The number of words in the sentence is : {result}\")"
   ]
  },
  {
   "cell_type": "code",
   "execution_count": 25,
   "id": "29d7bb91-4cac-491e-8b91-a4080fb17c0e",
   "metadata": {},
   "outputs": [
    {
     "name": "stdout",
     "output_type": "stream",
     "text": [
      "The sum of the odd numbers is  625\n"
     ]
    }
   ],
   "source": [
    "n =50\n",
    "sum_of_odd = 0\n",
    "for i in range(1, 50+1):\n",
    "    if i % 2 !=0:\n",
    "        sum_of_odd += i\n",
    "print(\"The sum of the odd numbers is \", sum_of_odd)\n",
    "        "
   ]
  },
  {
   "cell_type": "code",
   "execution_count": 28,
   "id": "504e9fc6-baee-4132-81db-2a0ab14ba47d",
   "metadata": {},
   "outputs": [
    {
     "name": "stdin",
     "output_type": "stream",
     "text": [
      "Enter a year  1988\n"
     ]
    },
    {
     "name": "stdout",
     "output_type": "stream",
     "text": [
      "1992 is a leap year\n"
     ]
    }
   ],
   "source": [
    "year = int(input(\"Enter a year\"))\n",
    "\n",
    "is_leap = False\n",
    "\n",
    "for i in range(4):\n",
    "    if(year % 400 ==0):\n",
    "        is_leap = True\n",
    "        break\n",
    "    year += 1\n",
    "print(f\"{year} is a leap year\")"
   ]
  },
  {
   "cell_type": "code",
   "execution_count": 29,
   "id": "02cd41a7-ea79-4208-bfd8-2ee9833c4854",
   "metadata": {},
   "outputs": [
    {
     "name": "stdin",
     "output_type": "stream",
     "text": [
      "Enter the first number   34\n",
      "Enter the second number 45\n"
     ]
    },
    {
     "name": "stdout",
     "output_type": "stream",
     "text": [
      "The LCM of 34 and 45 is  {1530}\n"
     ]
    }
   ],
   "source": [
    "def find_gcd(a, b):\n",
    "    while b:\n",
    "        a, b = b, a % b\n",
    "    return a\n",
    "\n",
    "def find_lcm(x, y):\n",
    "    gcd = find_gcd(x, y)\n",
    "    lcm = ( x * y)// gcd\n",
    "    return lcm\n",
    "\n",
    "num1 = int(input(\"Enter the first number\"))\n",
    "num2 = int(input(\"Enter the second number\"))\n",
    "\n",
    "\n",
    "lcm = find_lcm(num1, num2)\n",
    "\n",
    "\n",
    "print(f\"The LCM of {num1} and {num2} is \", {lcm})\n",
    "           "
   ]
  },
  {
   "cell_type": "code",
   "execution_count": 30,
   "id": "9b997cf1-dd8f-4a6d-a03c-8f1a3132a6c2",
   "metadata": {},
   "outputs": [
    {
     "name": "stdin",
     "output_type": "stream",
     "text": [
      "Enter a number  56\n"
     ]
    },
    {
     "name": "stdout",
     "output_type": "stream",
     "text": [
      "number is positive\n"
     ]
    }
   ],
   "source": [
    "number = int(input(\"Enter a number\"))\n",
    "\n",
    "if number > 0:\n",
    "    print(\"number is positive\")\n",
    "elif number==0:\n",
    "    print(\"zero\")\n",
    "else:\n",
    "    print(\"number is negative\")"
   ]
  },
  {
   "cell_type": "code",
   "execution_count": 33,
   "id": "82a1ae3b-7830-4e43-aed2-60559908fc25",
   "metadata": {},
   "outputs": [
    {
     "name": "stdin",
     "output_type": "stream",
     "text": [
      "Enter a number 44\n"
     ]
    },
    {
     "name": "stdout",
     "output_type": "stream",
     "text": [
      "The number is even number\n"
     ]
    }
   ],
   "source": [
    "number = int(input(\"Enter a number\"))\n",
    "\n",
    "if number % 2 ==0:\n",
    "    print(\"The number is even number\")\n",
    "else:\n",
    "    print(\"The number is odd number\")\n",
    "    "
   ]
  },
  {
   "cell_type": "code",
   "execution_count": 2,
   "id": "5c1a20a7-5386-4760-ae17-0a455912361d",
   "metadata": {},
   "outputs": [
    {
     "name": "stdout",
     "output_type": "stream",
     "text": [
      "Your grade is C\n"
     ]
    }
   ],
   "source": [
    "#we can use nested if-else statements to create more complex conditional logic by placing one if-else statement inside another.\n",
    "#this allows us to check multiple conditions and execute different code blocks on the outcomes of these conditions.\n",
    "\n",
    "score = 75\n",
    "\n",
    "if score >= 90:\n",
    "    grade = 'A'\n",
    "else:\n",
    "    if score >= 80:\n",
    "        grade = 'B'\n",
    "    else:\n",
    "        if score >= 70:\n",
    "            grade = 'C'\n",
    "        else:\n",
    "            if score >= 60:\n",
    "                grade = 'D'\n",
    "            else:\n",
    "                grade = 'F'\n",
    "                \n",
    "                \n",
    "print(f\"Your grade is {grade}\")"
   ]
  },
  {
   "cell_type": "code",
   "execution_count": 3,
   "id": "f644d81c-db82-4ff7-8f05-eb6918a5f1f1",
   "metadata": {},
   "outputs": [
    {
     "name": "stdin",
     "output_type": "stream",
     "text": [
      "Enter the first number  12\n",
      "Enter the second number 34\n",
      "Enter the third number 10\n"
     ]
    },
    {
     "name": "stdout",
     "output_type": "stream",
     "text": [
      "The largest number among 12, 34 and 10 is 34\n"
     ]
    }
   ],
   "source": [
    "num1 = int(input(\"Enter the first number\"))\n",
    "num2 = int(input(\"Enter the second number\"))\n",
    "num3 = int(input(\"Enter the third number\"))\n",
    "\n",
    "if num1 >= num2 and num1 >= num3:\n",
    "    largest_number = num1\n",
    "elif num2 >= num3 and num2 >= num1:\n",
    "    largest_number = num2\n",
    "else:\n",
    "    largest_number = num3\n",
    "    \n",
    "    \n",
    "print(f\"The largest number among {num1}, {num2} and {num3} is {largest_number}\")"
   ]
  },
  {
   "cell_type": "code",
   "execution_count": 4,
   "id": "13672ff3-b788-4547-8c5b-b9038c58ba4d",
   "metadata": {},
   "outputs": [
    {
     "name": "stdin",
     "output_type": "stream",
     "text": [
      "Enter a number:  -45\n"
     ]
    },
    {
     "name": "stdout",
     "output_type": "stream",
     "text": [
      "The absolute value of -45.0 is 45.0\n"
     ]
    }
   ],
   "source": [
    "number = float(input(\"Enter a number:\"))\n",
    "\n",
    "if number < 0:\n",
    "    absolute_value = -number\n",
    "else:\n",
    "    absolute_value = number\n",
    "    \n",
    "print(f\"The absolute value of {number} is {absolute_value}\")"
   ]
  },
  {
   "cell_type": "code",
   "execution_count": 7,
   "id": "c387dbfb-d9ad-4153-943b-40b88c844830",
   "metadata": {},
   "outputs": [
    {
     "name": "stdin",
     "output_type": "stream",
     "text": [
      "Enter a character  a\n"
     ]
    },
    {
     "name": "stdout",
     "output_type": "stream",
     "text": [
      " a is a consonant\n"
     ]
    }
   ],
   "source": [
    "char = input(\"Enter a character\")\n",
    "\n",
    "char = char.lower()\n",
    "\n",
    "if char == 'a' or char == 'e' or char == 'i' or char == 'o' or char == 'u':\n",
    "    print(f\"{char} is a vowel\")\n",
    "else:\n",
    "    print(f\"{char} is a consonant\")"
   ]
  },
  {
   "cell_type": "code",
   "execution_count": 9,
   "id": "8ab6db78-a612-4ea0-9713-921779222333",
   "metadata": {},
   "outputs": [
    {
     "name": "stdin",
     "output_type": "stream",
     "text": [
      "Enter the age of person   20\n"
     ]
    },
    {
     "name": "stdout",
     "output_type": "stream",
     "text": [
      "The person is eligible to vote\n"
     ]
    }
   ],
   "source": [
    "age = int(input(\"Enter the age of person\"))\n",
    "\n",
    "\n",
    "if age >= 18:\n",
    "    print(\"The person is eligible to vote\")\n",
    "    \n",
    "    \n",
    "else:\n",
    "    print(\"The person is not eligible to vote\")\n",
    "\n",
    "\n",
    "                "
   ]
  },
  {
   "cell_type": "code",
   "execution_count": 10,
   "id": "e8a28d18-5744-4d83-bf7b-3c52845364e1",
   "metadata": {},
   "outputs": [
    {
     "name": "stdin",
     "output_type": "stream",
     "text": [
      "Enter the purchase amount  500\n"
     ]
    },
    {
     "name": "stdout",
     "output_type": "stream",
     "text": [
      "The discount amount of purchase is 50.0\n"
     ]
    }
   ],
   "source": [
    "purchase_amount = float(input(\"Enter the purchase amount\"))\n",
    "\n",
    "discount_rate1 = 0.1\n",
    "discount_rate2 = 0.05\n",
    "discount_rate3 = 0.02\n",
    "\n",
    "discount_amount = 0\n",
    "\n",
    "if purchase_amount >= 100:\n",
    "    discount_amount = purchase_amount * discount_rate1\n",
    "elif purchase_amount >= 50:\n",
    "    discount_amount = purchase_amount * discount_rate2\n",
    "elif purchase_amount >= 20:\n",
    "    discount_amount = purchase_amount * discount_rate3\n",
    "    \n",
    "    \n",
    "print(f\"The discount amount of purchase is {discount_amount}\")"
   ]
  },
  {
   "cell_type": "markdown",
   "id": "09a25e47-95b4-4d78-b48f-9535c7aaaf1e",
   "metadata": {},
   "source": [
    "num = int(input(\"Enter a number\"))\n",
    "\n",
    "lower_limit = 10\n",
    "upper_limit = 50\n",
    "\n",
    "\n",
    "if num >= lower_limit and num <= upper_limit:\n",
    "    print(f\"{num} is within the range [{lower_limit}, {upper_limit}]\")\n",
    "    \n",
    "else:\n",
    "    print(f\"{num} is not within the range [{lower_limit}, {upper_limit}]\")"
   ]
  },
  {
   "cell_type": "code",
   "execution_count": 15,
   "id": "f2f6cfe6-6d57-47fb-ab6b-241033784e8b",
   "metadata": {
    "jupyter": {
     "source_hidden": true
    },
    "tags": []
   },
   "outputs": [
    {
     "name": "stdin",
     "output_type": "stream",
     "text": [
      "Enter the score of the student  79\n"
     ]
    },
    {
     "name": "stdout",
     "output_type": "stream",
     "text": [
      "The grade of the student is C\n"
     ]
    }
   ],
   "source": [
    "score = int(input(\"Enter the score of the student\"))\n",
    "\n",
    "if score >= 90:\n",
    "    grade = 'A'\n",
    "elif score >= 80:\n",
    "    grade = 'B'\n",
    "elif score >= 70:\n",
    "    grade = 'C'\n",
    "elif score >= 60:\n",
    "    grade = 'D'\n",
    "else:\n",
    "    grade = 'F'\n",
    "    \n",
    "    \n",
    "print(f\"The grade of the student is {grade}\")"
   ]
  },
  {
   "cell_type": "code",
   "execution_count": 16,
   "id": "bafb7f15-0a93-4a93-ba64-16bda69eda06",
   "metadata": {
    "jupyter": {
     "source_hidden": true
    },
    "tags": []
   },
   "outputs": [
    {
     "name": "stdin",
     "output_type": "stream",
     "text": [
      "Enter a string  []\n"
     ]
    },
    {
     "name": "stdout",
     "output_type": "stream",
     "text": [
      "The string is not empty\n"
     ]
    }
   ],
   "source": [
    "string = input(\"Enter a string\")\n",
    "\n",
    "if len(string) == 0:\n",
    "    print(\"The string is empty\")\n",
    "    \n",
    "else:\n",
    "    print(\"The string is not empty\")"
   ]
  },
  {
   "cell_type": "code",
   "execution_count": 18,
   "id": "05773988-9899-4c9e-aedc-bc095296ff6b",
   "metadata": {},
   "outputs": [
    {
     "name": "stdin",
     "output_type": "stream",
     "text": [
      "Enter the length of  first side of a triangle  4\n",
      "Enter the length of second side of a triangle 5\n",
      "Enter thr length of third side of a triangle 4\n"
     ]
    },
    {
     "name": "stdout",
     "output_type": "stream",
     "text": [
      "The type of triangle is Isosceles\n"
     ]
    }
   ],
   "source": [
    "side1 = float(input(\"Enter the length of  first side of a triangle\"))\n",
    "side2 = float(input(\"Enter the length of second side of a triangle\"))\n",
    "side3 = float(input(\"Enter thr length of third side of a triangle\"))\n",
    "\n",
    "if side1 == side2 == side3:\n",
    "    triangle_type = \"Equilateral\"\n",
    "    \n",
    "elif side1 == side2 or side1 == side3 or side2 == side3:\n",
    "    triangle_type = \"Isosceles\"\n",
    "    \n",
    "else:\n",
    "    triangle_type = \"Scalene\"\n",
    "    \n",
    "    \n",
    "print(f\"The type of triangle is {triangle_type}\")"
   ]
  },
  {
   "cell_type": "code",
   "execution_count": 20,
   "id": "6d1f5ef1-2ec3-4b77-b153-465f44d7e3f5",
   "metadata": {},
   "outputs": [
    {
     "name": "stdin",
     "output_type": "stream",
     "text": [
      "Enter a number (1-7) to determine the day of the week  5\n"
     ]
    },
    {
     "name": "stdout",
     "output_type": "stream",
     "text": [
      "The day of the week for number 5 is Thursday\n"
     ]
    }
   ],
   "source": [
    "day_number = int(input(\"Enter a number (1-7) to determine the day of the week\"))\n",
    "\n",
    "if day_number == 1:\n",
    "    day = 'Sunday'\n",
    "elif day_number == 2:\n",
    "    day = 'Monday'\n",
    "elif day_number == 3:\n",
    "    day = 'Tuesday'\n",
    "elif day_number == 4:\n",
    "    day = 'wednesday'\n",
    "elif day_number == 5:\n",
    "    day = 'Thursday'\n",
    "elif day_number == 6:\n",
    "    day = 'Friday'\n",
    "elif day_number == 7:\n",
    "    day = 'Saturday'\n",
    "else:\n",
    "    print(\"Invalid input, please entre a number between 1 and 7\")\n",
    "    \n",
    "print(f\"The day of the week for number {day_number} is {day}\")"
   ]
  },
  {
   "cell_type": "code",
   "execution_count": 21,
   "id": "ce983b99-7d04-4d4e-aed8-116a8e8e0d6f",
   "metadata": {},
   "outputs": [
    {
     "name": "stdin",
     "output_type": "stream",
     "text": [
      "Enter a year  1972\n"
     ]
    },
    {
     "name": "stdout",
     "output_type": "stream",
     "text": [
      "1972 is a leap year\n"
     ]
    }
   ],
   "source": [
    "def is_leap_year(year):\n",
    "    if (year % 4 == 0 and year % 100 !=0) or (year % 400 ==0):\n",
    "        return True\n",
    "    else: \n",
    "        return False\n",
    "    \n",
    "year = int(input(\"Enter a year\"))\n",
    "\n",
    "if is_leap_year(year):\n",
    "    print(f\"{year} is a leap year\")\n",
    "    \n",
    "else:\n",
    "    print(f\"{year} is not a leap year\")"
   ]
  },
  {
   "cell_type": "code",
   "execution_count": 1,
   "id": "1c040f97-7a60-42f1-a4f6-4c193b882dbc",
   "metadata": {},
   "outputs": [
    {
     "name": "stdout",
     "output_type": "stream",
     "text": [
      "Error: Division by zero!\n",
      "Cannot calculate quotient due to division by zero.\n"
     ]
    }
   ],
   "source": [
    "def divide(a, b):\n",
    "    assert b != 0, \"Division by zero is not allowed.\"\n",
    "    result = a/b\n",
    "    return result\n",
    "\n",
    "numerator = 10\n",
    "denominator = 0\n",
    "\n",
    "if denominator != 0:\n",
    "    quotient = divide(numerator, denominator)\n",
    "else:\n",
    "    quotient = None\n",
    "    print(\"Error: Division by zero!\")\n",
    "    \n",
    "if quotient is not None:\n",
    "    print(f\"The quotient is {quotient}\")\n",
    "else:\n",
    "    print(\"Cannot calculate quotient due to division by zero.\")"
   ]
  },
  {
   "cell_type": "code",
   "execution_count": 2,
   "id": "149213fe-0cce-4c91-8db9-68e3b81fd0f7",
   "metadata": {},
   "outputs": [
    {
     "name": "stdin",
     "output_type": "stream",
     "text": [
      "Enter the age  25\n"
     ]
    },
    {
     "name": "stdout",
     "output_type": "stream",
     "text": [
      "You are not eligible for a senior citizen discount.\n"
     ]
    }
   ],
   "source": [
    "age = int(input(\"Enter the age\"))\n",
    "\n",
    "senior_citizen_age = 60\n",
    "\n",
    "if age >= senior_citizen_age:\n",
    "    print(\"You are eligible for a senior citizen discount!\")\n",
    "else:\n",
    "    print(\"You are not eligible for a senior citizen discount.\")"
   ]
  },
  {
   "cell_type": "code",
   "execution_count": 4,
   "id": "24267b8c-ac9a-4da9-b780-ecfd146c48bc",
   "metadata": {},
   "outputs": [
    {
     "name": "stdin",
     "output_type": "stream",
     "text": [
      "Enter a character  A\n"
     ]
    },
    {
     "name": "stdout",
     "output_type": "stream",
     "text": [
      " A is an uppercase letter.\n"
     ]
    }
   ],
   "source": [
    "character = input(\"Enter a character\")\n",
    "\n",
    "if character.isupper():\n",
    "    print(f\"{character} is an uppercase letter.\")\n",
    "elif character.islower():\n",
    "    print(f\"{character} is a lowercase letter.\")\n",
    "else:\n",
    "    print(f\"{character} is neither uppercase letter nor lowercase letter.\")"
   ]
  },
  {
   "cell_type": "code",
   "execution_count": 6,
   "id": "fa84891a-ceff-4282-bc89-ee93f58138c8",
   "metadata": {},
   "outputs": [
    {
     "name": "stdin",
     "output_type": "stream",
     "text": [
      "Enter coefficient a 34\n",
      "Enter coefficient b 23\n",
      "Enter coefficient c 12\n"
     ]
    },
    {
     "name": "stdout",
     "output_type": "stream",
     "text": [
      "Root 1 = -0.3382352941176471 + 0.4884035854534004i, Root 2 = -0.3382352941176471 - 0.4884035854534004i\n"
     ]
    }
   ],
   "source": [
    "a = float(input(\"Enter coefficient a\"))\n",
    "b = float(input(\"Enter coefficient b\"))\n",
    "c = float(input(\"Enter coefficient c\"))\n",
    "\n",
    "discriminant = b**2 - 4*a*c\n",
    "\n",
    "if discriminant >0:\n",
    "    root1 = (-b + (discriminant ** 0.5)) / (2*a)\n",
    "    root2 = (-b - (discriminant ** 0.5)) / (2*a)\n",
    "    print(f\"Root 1 = {root1}, Root 2 = {root2}\")\n",
    "    \n",
    "elif discriminant == 0:\n",
    "    root1 = -b / (2*a)\n",
    "    print(f\"Root 1 = Root 2 = {root1}\")\n",
    "    \n",
    "else:\n",
    "    real_part = -b / (2*a)\n",
    "    imaginary_part = ((-discriminant) ** 0.5) / (2*a)\n",
    "    \n",
    "print(f\"Root 1 = {real_part} + {imaginary_part}i, Root 2 = {real_part} - {imaginary_part}i\")"
   ]
  },
  {
   "cell_type": "code",
   "execution_count": 7,
   "id": "08142f43-4a9c-451d-9dc1-fa03c8f05ec1",
   "metadata": {},
   "outputs": [
    {
     "name": "stdin",
     "output_type": "stream",
     "text": [
      "Enter a year  1966\n"
     ]
    },
    {
     "name": "stdout",
     "output_type": "stream",
     "text": [
      "1966 is not a century year\n"
     ]
    }
   ],
   "source": [
    "year = int(input(\"Enter a year\"))\n",
    "\n",
    "if year % 100 ==0:\n",
    "    print(f\"{year} is a century year\")\n",
    "    \n",
    "else:\n",
    "    print(f\"{year} is not a century year\")"
   ]
  },
  {
   "cell_type": "code",
   "execution_count": 9,
   "id": "75ccae8f-e42f-4752-8ade-2b3a7dc96598",
   "metadata": {},
   "outputs": [
    {
     "name": "stdin",
     "output_type": "stream",
     "text": [
      "Enter a number  49\n"
     ]
    },
    {
     "name": "stdout",
     "output_type": "stream",
     "text": [
      "49 is a perfect square.\n"
     ]
    }
   ],
   "source": [
    "number = int(input(\"Enter a number\"))\n",
    "\n",
    "sqrt = int(number ** 0.5)\n",
    "\n",
    "if sqrt * sqrt == number:\n",
    "    print(f\"{number} is a perfect square.\")\n",
    "    \n",
    "else:\n",
    "    print(f\"{number} is not a perfect square\")"
   ]
  },
  {
   "cell_type": "markdown",
   "id": "d15fc230-ea0e-4fc8-994c-2313f2cb27ce",
   "metadata": {},
   "source": [
    "The \"continue\" and \"break\" statements are used within loops, including \"if-else\" blocks,\n",
    "to control the flow of the loop and the execution of subsequent code. "
   ]
  },
  {
   "cell_type": "code",
   "execution_count": 10,
   "id": "4e807819-cbc0-4bf2-8bed-58c0bc5697e8",
   "metadata": {},
   "outputs": [
    {
     "name": "stdout",
     "output_type": "stream",
     "text": [
      "1\n",
      "2\n",
      "4\n",
      "5\n"
     ]
    }
   ],
   "source": [
    "for i in range(1, 6):\n",
    "    if i == 3:\n",
    "        continue\n",
    "    print(i)"
   ]
  },
  {
   "cell_type": "code",
   "execution_count": 11,
   "id": "f3bfbc96-b50d-40e8-a1f0-a479b48e7990",
   "metadata": {},
   "outputs": [
    {
     "name": "stdout",
     "output_type": "stream",
     "text": [
      "1\n",
      "2\n"
     ]
    }
   ],
   "source": [
    "number = [1,2,3,4,5]\n",
    "\n",
    "for num in number:\n",
    "    if num == 3:\n",
    "        break\n",
    "    print(num)"
   ]
  },
  {
   "cell_type": "code",
   "execution_count": 13,
   "id": "f2a569df-23b2-4fbf-ad9a-898c10b63854",
   "metadata": {},
   "outputs": [
    {
     "name": "stdin",
     "output_type": "stream",
     "text": [
      "Enter your weight  65\n",
      "Enter your height  5.5\n"
     ]
    },
    {
     "name": "stdout",
     "output_type": "stream",
     "text": [
      "You are underweight\n"
     ]
    }
   ],
   "source": [
    "weight_kg = float(input(\"Enter your weight\"))\n",
    "height_m = float(input(\"Enter your height\"))\n",
    "bmi = weight_kg / (height_m ** 2)\n",
    "\n",
    "if bmi < 18.5:\n",
    "    print(\"You are underweight\")\n",
    "    \n",
    "elif 18.5 <= bmi <= 24.9:\n",
    "    print(\"Your BMI is in a healty range\")\n",
    "    \n",
    "elif 25 <= bmi <= 29.9:\n",
    "    print(\"You are overweight\")\n",
    "    \n",
    "else:\n",
    "    print(\"You are obese\")"
   ]
  },
  {
   "cell_type": "markdown",
   "id": "1a4bf897-8759-4b23-9c1d-0ae0b702559e",
   "metadata": {},
   "source": [
    "The 'filter()' function is used to filter elements from an iterable based on a specified condition.\n",
    "while we typically don't use 'if-else' statement directly within 'filter()', we can achieve filtering based on conditions using a function or lambda expression."
   ]
  },
  {
   "cell_type": "code",
   "execution_count": 14,
   "id": "f4b5efc0-1fd4-45a3-a92f-38448af3c93b",
   "metadata": {},
   "outputs": [
    {
     "name": "stdout",
     "output_type": "stream",
     "text": [
      "[2, 4, 6, 8, 10]\n"
     ]
    }
   ],
   "source": [
    "def is_even(num):\n",
    "    return num % 2 ==0\n",
    "\n",
    "numbers = [1,2,3,4,5,6,7,8,9,10]\n",
    "\n",
    "even_numbers = list(filter(is_even, numbers))\n",
    "print(even_numbers)"
   ]
  },
  {
   "cell_type": "code",
   "execution_count": 16,
   "id": "268fd80f-21ff-47fc-93ce-6534b5a1b190",
   "metadata": {},
   "outputs": [
    {
     "name": "stdout",
     "output_type": "stream",
     "text": [
      "[2, 4, 6, 8, 10]\n"
     ]
    }
   ],
   "source": [
    "numbers = [1,2,3,4,5,6,7,8,9,10]\n",
    "\n",
    "even_numbers = list(filter(lambda a : a % 2 == 0, numbers))\n",
    "\n",
    "print(even_numbers)"
   ]
  },
  {
   "cell_type": "code",
   "execution_count": 22,
   "id": "08dabbfe-ae99-4a17-842d-77eee509fd3f",
   "metadata": {},
   "outputs": [
    {
     "name": "stdin",
     "output_type": "stream",
     "text": [
      "Enter a number  54\n"
     ]
    },
    {
     "name": "stdout",
     "output_type": "stream",
     "text": [
      "54 is not a prime number.\n"
     ]
    }
   ],
   "source": [
    "number = int(input(\"Enter a number\"))\n",
    "\n",
    "if number < 2:\n",
    "    print(f\"{number} is not a prime number\")\n",
    "else:\n",
    "    is_prime = True\n",
    "        \n",
    "        \n",
    "    for i in range(2, int(number**0.5) + 1):\n",
    "        if number % i == 0:\n",
    "            is_prime = False\n",
    "            break\n",
    "                \n",
    "                \n",
    "    if is_prime:\n",
    "        print(f\"{number} is a prime number.\")\n",
    "    else:\n",
    "        print(f\"{number} is not a prime number.\")\n",
    "    "
   ]
  },
  {
   "cell_type": "markdown",
   "id": "2eb6e417-dabf-4787-93f8-5c21d692d367",
   "metadata": {},
   "source": [
    "The 'map()' function is used to apply a specified function to each item in an iterable.\n",
    "it returns a map object containing the result of applying the function to each element of the iterable.\n",
    "The main purpose of 'map()' is to transform data in a concise and efficient way without the need for explicit loops."
   ]
  },
  {
   "cell_type": "code",
   "execution_count": 27,
   "id": "39aec064-9a29-4e3f-8266-7fe507557fc7",
   "metadata": {},
   "outputs": [
    {
     "name": "stdout",
     "output_type": "stream",
     "text": [
      "[16, 25, 36, 49, 64]\n"
     ]
    }
   ],
   "source": [
    "def square(x):\n",
    "    return x ** 2\n",
    "\n",
    "numbers = [4,5,6,7,8]\n",
    "\n",
    "squared_numbers = map(square, numbers)\n",
    "\n",
    "squared_numbers_list = list(map(square, numbers))\n",
    "\n",
    "print(squared_numbers_list)"
   ]
  },
  {
   "cell_type": "code",
   "execution_count": 28,
   "id": "3c5ffb83-77dc-47f1-be8d-38201e15690c",
   "metadata": {},
   "outputs": [
    {
     "name": "stdout",
     "output_type": "stream",
     "text": [
      "[1, 4, 9, 16, 25]\n"
     ]
    }
   ],
   "source": [
    "def square(a):\n",
    "    return a ** 2\n",
    "\n",
    "numbers = [1,2,3,4,5]\n",
    "\n",
    "squared_numbers = map(square, numbers)\n",
    "\n",
    "squared_numbers_list = list(map(square, numbers))\n",
    "\n",
    "\n",
    "print(squared_numbers_list)"
   ]
  },
  {
   "cell_type": "markdown",
   "id": "4c6c369e-b5c4-4b11-914d-a529fe2ee890",
   "metadata": {},
   "source": [
    "'map()' is a built-in function that applies a specified function to each element of an iterable and returns a map object containing the result.\n",
    "synrax: 'map(function, iterable)."
   ]
  },
  {
   "cell_type": "code",
   "execution_count": 4,
   "id": "d084f65d-e6da-46dd-9179-9e8c575fd2df",
   "metadata": {},
   "outputs": [],
   "source": [
    "numbers= [1, 2, 3, 4, 5]\n",
    "\n",
    "squared_numbers = list(map(lambda x : x ** 2, numbers))"
   ]
  },
  {
   "cell_type": "code",
   "execution_count": 5,
   "id": "b32ec69a-9146-42cc-ac31-e3e0f15c25f5",
   "metadata": {},
   "outputs": [
    {
     "data": {
      "text/plain": [
       "[1, 4, 9, 16, 25]"
      ]
     },
     "execution_count": 5,
     "metadata": {},
     "output_type": "execute_result"
    }
   ],
   "source": [
    "squared_numbers"
   ]
  },
  {
   "cell_type": "markdown",
   "id": "1e04efd6-b45e-4439-aa8b-59b88adbfe61",
   "metadata": {},
   "source": [
    "List comprehensions provide a concise way to create new lists by applying an expression to each element of an iterable and returning a new list.\n",
    "syntax:'[expression for element in iterable]'"
   ]
  },
  {
   "cell_type": "code",
   "execution_count": 6,
   "id": "d0c8680e-75ad-4359-bddc-660ce5350991",
   "metadata": {},
   "outputs": [],
   "source": [
    "numbers = [1, 2, 3, 4, 5]\n",
    "\n",
    "squared_numbers = [x ** 2 for x in numbers]"
   ]
  },
  {
   "cell_type": "code",
   "execution_count": 7,
   "id": "cfb93a67-b730-4ead-89d6-be409c02142d",
   "metadata": {},
   "outputs": [
    {
     "data": {
      "text/plain": [
       "[1, 4, 9, 16, 25]"
      ]
     },
     "execution_count": 7,
     "metadata": {},
     "output_type": "execute_result"
    }
   ],
   "source": [
    "squared_numbers"
   ]
  },
  {
   "cell_type": "code",
   "execution_count": 9,
   "id": "ce308129-e23e-4472-af62-eaf913de9621",
   "metadata": {},
   "outputs": [],
   "source": [
    "list_of_names = ['rashmi', 'python', 'data science', 'java']\n",
    "\n",
    "uppercase_list = list(map(lambda x : x.upper(), list_of_names))"
   ]
  },
  {
   "cell_type": "code",
   "execution_count": 10,
   "id": "0595db6a-9621-4a96-9c96-ee0373d7a1e6",
   "metadata": {},
   "outputs": [
    {
     "data": {
      "text/plain": [
       "['RASHMI', 'PYTHON', 'DATA SCIENCE', 'JAVA']"
      ]
     },
     "execution_count": 10,
     "metadata": {},
     "output_type": "execute_result"
    }
   ],
   "source": [
    "uppercase_list"
   ]
  },
  {
   "cell_type": "code",
   "execution_count": 12,
   "id": "2dacf485-aa11-4051-848c-887a0ca60889",
   "metadata": {},
   "outputs": [],
   "source": [
    "list_of_names = ['rashmi', 'python', 'data science', 'java']\n",
    "\n",
    "length_of_words = list(map(lambda a : len(a), list_of_names))"
   ]
  },
  {
   "cell_type": "code",
   "execution_count": 13,
   "id": "63ec73cf-34ca-4dac-b344-341f66940efa",
   "metadata": {},
   "outputs": [
    {
     "data": {
      "text/plain": [
       "[6, 6, 12, 4]"
      ]
     },
     "execution_count": 13,
     "metadata": {},
     "output_type": "execute_result"
    }
   ],
   "source": [
    "length_of_words"
   ]
  },
  {
   "cell_type": "code",
   "execution_count": 14,
   "id": "b53d10bd-d777-4a94-93da-fdc935579b75",
   "metadata": {},
   "outputs": [
    {
     "name": "stdout",
     "output_type": "stream",
     "text": [
      "[11, 22, 33, 44]\n"
     ]
    }
   ],
   "source": [
    "def add_two_numbers(x, y):\n",
    "    return x+y\n",
    "\n",
    "list1 = [1, 2, 3, 4]\n",
    "list2 = [10, 20, 30, 40]\n",
    "\n",
    "result = list(map(add_two_numbers, list1, list2))\n",
    "\n",
    "print(result)"
   ]
  },
  {
   "cell_type": "code",
   "execution_count": 15,
   "id": "87ede767-928a-46e0-8ceb-c64400343a0e",
   "metadata": {},
   "outputs": [
    {
     "name": "stdout",
     "output_type": "stream",
     "text": [
      "[32.0, 50.0, 68.0, 86.0, 104.0]\n"
     ]
    }
   ],
   "source": [
    "def celsius_to_fahrenheit(celsius):\n",
    "    return (celsius * 9 / 5) + 32\n",
    "\n",
    "celsius_temperatures = [0, 10, 20, 30, 40]\n",
    "\n",
    "fahrenheit_temperatures = list(map(celsius_to_fahrenheit, celsius_temperatures))\n",
    "\n",
    "print(fahrenheit_temperatures)"
   ]
  },
  {
   "cell_type": "code",
   "execution_count": 16,
   "id": "efc3c7ce-ab4f-4d7a-afa8-00918308b68f",
   "metadata": {},
   "outputs": [
    {
     "name": "stdout",
     "output_type": "stream",
     "text": [
      "[35, 3, 3, 2, 5]\n"
     ]
    }
   ],
   "source": [
    "float_numbers = [34.52, 3.14, 2.718, 1.618, 4.669]\n",
    "\n",
    "rounded_numbers = list(map(round, float_numbers))\n",
    "\n",
    "print(rounded_numbers)"
   ]
  },
  {
   "cell_type": "markdown",
   "id": "69b12022-31c4-4efd-8cd6-a68f808dc682",
   "metadata": {},
   "source": [
    "The 'reduce()' function in python is used for cumulative computations on a sequence of elements.it repeatedly applies a given binary function(a function that takes two arguments) to the elelements of an iterable,reducing the sequence to a single cumulative result.To use 'reduce()', we need to import it from the 'functools' module"
   ]
  },
  {
   "cell_type": "code",
   "execution_count": 18,
   "id": "36cac4c6-37ca-4831-8ffd-fed31f6d47a1",
   "metadata": {},
   "outputs": [
    {
     "name": "stdout",
     "output_type": "stream",
     "text": [
      "products: 7560\n"
     ]
    }
   ],
   "source": [
    "from functools import reduce\n",
    "\n",
    "def multiply(x, y):\n",
    "    return x * y\n",
    "\n",
    "numbers = [2, 3, 4, 5, 9, 7]\n",
    "\n",
    "product = reduce(multiply, numbers)\n",
    "\n",
    "print(\"products:\", product)"
   ]
  },
  {
   "cell_type": "code",
   "execution_count": 2,
   "id": "2e588605-1892-4388-b5bc-20cd21170e82",
   "metadata": {},
   "outputs": [
    {
     "name": "stdout",
     "output_type": "stream",
     "text": [
      "Products: 3240\n"
     ]
    }
   ],
   "source": [
    "from functools import reduce\n",
    "\n",
    "def multiply(a, b):\n",
    "    return a * b\n",
    "\n",
    "list_of_numbers = [1, 2, 3, 5, 9, 4, 3]\n",
    "\n",
    "product = reduce(multiply, list_of_numbers)\n",
    "\n",
    "print(\"Products:\", product)"
   ]
  },
  {
   "cell_type": "code",
   "execution_count": 6,
   "id": "e0d6009a-1776-4a41-b471-1d1c13a387d7",
   "metadata": {},
   "outputs": [
    {
     "name": "stdout",
     "output_type": "stream",
     "text": [
      "Maximum element: 77\n"
     ]
    }
   ],
   "source": [
    "from functools import reduce\n",
    "\n",
    "def find_max(a, b):\n",
    "    return a if a > b else b\n",
    "\n",
    "list_of_numbers = [2,4,9,77,54,34,12]\n",
    "\n",
    "max_element = reduce(find_max, list_of_numbers)\n",
    "\n",
    "print(\"Maximum element:\", max_element) "
   ]
  },
  {
   "cell_type": "code",
   "execution_count": 7,
   "id": "cd68d578-40d2-41d7-a255-621485af0b77",
   "metadata": {},
   "outputs": [
    {
     "name": "stdout",
     "output_type": "stream",
     "text": [
      "Concatenate strings: Hello ,World!\n"
     ]
    }
   ],
   "source": [
    "from functools import reduce\n",
    "\n",
    "def concatenate_strings(x, y):\n",
    "    return x + y\n",
    "\n",
    "strings = [\"Hello\", \" ,\", \"World\", \"!\"]\n",
    "\n",
    "result = reduce(concatenate_strings, strings)\n",
    "\n",
    "print(\"Concatenate strings:\", result)"
   ]
  },
  {
   "cell_type": "code",
   "execution_count": 13,
   "id": "6e15cff9-6cc0-4a20-9a6a-ac797955702d",
   "metadata": {},
   "outputs": [
    {
     "name": "stdin",
     "output_type": "stream",
     "text": [
      "Enter a number 4\n"
     ]
    },
    {
     "name": "stdout",
     "output_type": "stream",
     "text": [
      "The factorial of 4 is 24\n"
     ]
    }
   ],
   "source": [
    "from functools import reduce\n",
    "\n",
    "def factorial(n):\n",
    "    if n == 0:\n",
    "        return 1\n",
    "    return reduce(lambda a, b : a*b, range(1, n+1))\n",
    "\n",
    "number = int(input(\"Enter a number\"))\n",
    "\n",
    "\n",
    "result = factorial(number)\n",
    "print(f\"The factorial of {number} is {result}\")"
   ]
  },
  {
   "cell_type": "code",
   "execution_count": 15,
   "id": "fd147772-bef6-41a8-b56b-91c6a7a41a35",
   "metadata": {},
   "outputs": [],
   "source": [
    "n= 8\n",
    "fact = reduce(lambda a,b : a*b, range(1, n+1))"
   ]
  },
  {
   "cell_type": "code",
   "execution_count": 16,
   "id": "5294ad2b-5f03-469a-bd71-2a263ed24528",
   "metadata": {},
   "outputs": [
    {
     "data": {
      "text/plain": [
       "40320"
      ]
     },
     "execution_count": 16,
     "metadata": {},
     "output_type": "execute_result"
    }
   ],
   "source": [
    "fact"
   ]
  },
  {
   "cell_type": "code",
   "execution_count": 18,
   "id": "c33bd349-74aa-4f00-a9eb-5cc826a47c8d",
   "metadata": {},
   "outputs": [
    {
     "name": "stdout",
     "output_type": "stream",
     "text": [
      "The GCD of the numbers is: 2\n"
     ]
    }
   ],
   "source": [
    "from functools import reduce\n",
    "import math\n",
    "\n",
    "numbers = [12, 34, 24, 48, 36, 60]\n",
    "\n",
    "def gcd(x, y):\n",
    "    return math.gcd(x,y)\n",
    "\n",
    "result = reduce(gcd, numbers)\n",
    "\n",
    "print(\"The GCD of the numbers is:\", result)"
   ]
  },
  {
   "cell_type": "code",
   "execution_count": 23,
   "id": "a4c0fb2b-ca06-4ceb-ab9e-b08b31cd4b79",
   "metadata": {},
   "outputs": [
    {
     "name": "stdin",
     "output_type": "stream",
     "text": [
      "Enter a number 8, 1250\n"
     ]
    },
    {
     "ename": "ValueError",
     "evalue": "invalid literal for int() with base 10: '8, 1250'",
     "output_type": "error",
     "traceback": [
      "\u001b[0;31m---------------------------------------------------------------------------\u001b[0m",
      "\u001b[0;31mValueError\u001b[0m                                Traceback (most recent call last)",
      "Cell \u001b[0;32mIn[23], line 6\u001b[0m\n\u001b[1;32m      3\u001b[0m \u001b[38;5;28;01mdef\u001b[39;00m \u001b[38;5;21madd_digit_sum\u001b[39m(total, digit_str):\n\u001b[1;32m      4\u001b[0m     \u001b[38;5;28;01mreturn\u001b[39;00m total \u001b[38;5;241m+\u001b[39m \u001b[38;5;28mint\u001b[39m(digit_str)\n\u001b[0;32m----> 6\u001b[0m number_str \u001b[38;5;241m=\u001b[39m \u001b[38;5;28;43mint\u001b[39;49m\u001b[43m(\u001b[49m\u001b[38;5;28;43minput\u001b[39;49m\u001b[43m(\u001b[49m\u001b[38;5;124;43m\"\u001b[39;49m\u001b[38;5;124;43mEnter a number\u001b[39;49m\u001b[38;5;124;43m\"\u001b[39;49m\u001b[43m)\u001b[49m\u001b[43m)\u001b[49m\n\u001b[1;32m      8\u001b[0m digit_sum \u001b[38;5;241m=\u001b[39m reduce(add_digit_sum, number_str, \u001b[38;5;241m0\u001b[39m)\n\u001b[1;32m     10\u001b[0m \u001b[38;5;28mprint\u001b[39m(\u001b[38;5;124m\"\u001b[39m\u001b[38;5;124mSum of the digits:\u001b[39m\u001b[38;5;124m\"\u001b[39m, digit_sum)\n",
      "\u001b[0;31mValueError\u001b[0m: invalid literal for int() with base 10: '8, 1250'"
     ]
    }
   ],
   "source": [
    "from functools import reduce\n",
    "\n",
    "def add_digit_sum(total, digit_str):\n",
    "    return total + int(digit_str)\n",
    "\n",
    "number_str = int(input(\"Enter a number\"))\n",
    "\n",
    "digit_sum = reduce(add_digit_sum, number_str, 0)\n",
    "\n",
    "print(\"Sum of the digits:\", digit_sum)"
   ]
  },
  {
   "cell_type": "code",
   "execution_count": 24,
   "id": "c3e6442c-c1ff-495f-8c3d-f76cd6ce8cbc",
   "metadata": {},
   "outputs": [
    {
     "ename": "TypeError",
     "evalue": "reduce() arg 2 must support iteration",
     "output_type": "error",
     "traceback": [
      "\u001b[0;31m---------------------------------------------------------------------------\u001b[0m",
      "\u001b[0;31mTypeError\u001b[0m                                 Traceback (most recent call last)",
      "Cell \u001b[0;32mIn[24], line 2\u001b[0m\n\u001b[1;32m      1\u001b[0m number\u001b[38;5;241m=\u001b[39m\u001b[38;5;241m5\u001b[39m\n\u001b[0;32m----> 2\u001b[0m digit_sum \u001b[38;5;241m=\u001b[39m \u001b[43mreduce\u001b[49m\u001b[43m(\u001b[49m\u001b[38;5;28;43;01mlambda\u001b[39;49;00m\u001b[43m \u001b[49m\u001b[43ma\u001b[49m\u001b[43m,\u001b[49m\u001b[43m \u001b[49m\u001b[43mb\u001b[49m\u001b[43m \u001b[49m\u001b[43m:\u001b[49m\u001b[43m \u001b[49m\u001b[43m(\u001b[49m\u001b[43mtotal\u001b[49m\u001b[43m \u001b[49m\u001b[38;5;241;43m+\u001b[39;49m\u001b[43m \u001b[49m\u001b[43ma\u001b[49m\u001b[43m,\u001b[49m\u001b[43mb\u001b[49m\u001b[43m)\u001b[49m\u001b[43m,\u001b[49m\u001b[43m \u001b[49m\u001b[43mnumber\u001b[49m\u001b[43m)\u001b[49m\n",
      "\u001b[0;31mTypeError\u001b[0m: reduce() arg 2 must support iteration"
     ]
    }
   ],
   "source": [
    "number=5\n",
    "digit_sum = reduce(lambda a, b : (total + a,b), number)"
   ]
  },
  {
   "cell_type": "markdown",
   "id": "d1456747-7bf5-41b8-bff2-0868f7881e0e",
   "metadata": {},
   "source": [
    "The 'filter()' function in python is used to filter elements from an iterable based on a given coondition or function.\n",
    "it creates a new iterable containing only the elements for which the condition or function evalutes to 'True'.\n",
    "The basic syntax of the 'filter()' is filter(function, iterable)"
   ]
  },
  {
   "cell_type": "code",
   "execution_count": 31,
   "id": "1429cd85-3da0-4cdf-8d2d-1160012030cf",
   "metadata": {},
   "outputs": [
    {
     "name": "stdout",
     "output_type": "stream",
     "text": [
      "Even numbers: [2, 4, 6, 8, 10]\n"
     ]
    }
   ],
   "source": [
    "numbers = [1,2,3,4,5,6,7,8,9,10]\n",
    "\n",
    "def is_even(numbers):\n",
    "    return numbers % 2 ==0\n",
    "\n",
    "even_numbers = list(filter(is_even, numbers))\n",
    "\n",
    "print(\"Even numbers:\", even_numbers)"
   ]
  },
  {
   "cell_type": "code",
   "execution_count": 29,
   "id": "470827c6-39e1-42ef-98e6-849c2d12fa53",
   "metadata": {},
   "outputs": [],
   "source": [
    "numbers = [1,2,3,4,5,6,7,8,9,10]\n",
    "even_numbers = list(filter(lambda a: a % 2 == 0, numbers))"
   ]
  },
  {
   "cell_type": "code",
   "execution_count": 30,
   "id": "3083690c-9c06-4d34-84ff-3871167eb283",
   "metadata": {},
   "outputs": [
    {
     "data": {
      "text/plain": [
       "[2, 4, 6, 8, 10]"
      ]
     },
     "execution_count": 30,
     "metadata": {},
     "output_type": "execute_result"
    }
   ],
   "source": [
    "even_numbers"
   ]
  },
  {
   "cell_type": "code",
   "execution_count": 32,
   "id": "2425bdde-554d-4c5b-a737-0a93ebbcf440",
   "metadata": {},
   "outputs": [],
   "source": [
    "numbers = [2,4,13,45,32,89,76,55,64,33,13,90,37,87,67]\n",
    "\n",
    "even_numbers = list(filter(lambda a : a % 2 ==0, numbers))"
   ]
  },
  {
   "cell_type": "code",
   "execution_count": 33,
   "id": "933bb154-a512-4f83-bb91-330fbf0d8f1a",
   "metadata": {},
   "outputs": [
    {
     "data": {
      "text/plain": [
       "[2, 4, 32, 76, 64, 90]"
      ]
     },
     "execution_count": 33,
     "metadata": {},
     "output_type": "execute_result"
    }
   ],
   "source": [
    "even_numbers"
   ]
  },
  {
   "cell_type": "code",
   "execution_count": 34,
   "id": "bd2ec69b-ccb8-430f-a097-67628035c58a",
   "metadata": {},
   "outputs": [],
   "source": [
    "list_of_strings = ['apple', 'parrot', 'animal', 'python', 'car']\n",
    "\n",
    "specific_words = list(filter(lambda a : a[0] == 'p', list_of_strings))"
   ]
  },
  {
   "cell_type": "code",
   "execution_count": 35,
   "id": "329ef553-f2b1-4dad-9d85-3568201bff90",
   "metadata": {},
   "outputs": [
    {
     "data": {
      "text/plain": [
       "['parrot', 'python']"
      ]
     },
     "execution_count": 35,
     "metadata": {},
     "output_type": "execute_result"
    }
   ],
   "source": [
    "specific_words"
   ]
  },
  {
   "cell_type": "code",
   "execution_count": 37,
   "id": "52a3fcde-f5b8-4dd4-a3a3-643d40b2d3bf",
   "metadata": {},
   "outputs": [
    {
     "name": "stdout",
     "output_type": "stream",
     "text": [
      "Prime numbers: [2, 11, 13, 17]\n"
     ]
    }
   ],
   "source": [
    "numbers = [2,3,5,7,10,11,13,15,17,20]\n",
    "\n",
    "def is_prime(number):\n",
    "    if number <= 1:\n",
    "        return False\n",
    "    if number == 2:\n",
    "        return True\n",
    "    if number % 2 == 0:\n",
    "        return False\n",
    "    for i in range(3, int(number**0.5) + 1, 2):\n",
    "        if number % i == 0:\n",
    "            return False\n",
    "        return True\n",
    "    \n",
    "prime_numbers = list(filter(is_prime, numbers))\n",
    "\n",
    "print(\"Prime numbers:\", prime_numbers)"
   ]
  },
  {
   "cell_type": "code",
   "execution_count": 39,
   "id": "fb99ba34-9fda-4c70-ba1f-4abe26e7e487",
   "metadata": {},
   "outputs": [
    {
     "name": "stdout",
     "output_type": "stream",
     "text": [
      "List with None values removed: [1, 2, 3, 4, 5]\n"
     ]
    }
   ],
   "source": [
    "values = [1, None, 2, None, 3, None, 4, None, 5, None]\n",
    "\n",
    "filtered_values = list(filter(lambda a: a is not None, values))\n",
    "\n",
    "print(\"List with None values removed:\", filtered_values)"
   ]
  },
  {
   "cell_type": "code",
   "execution_count": 40,
   "id": "820dad0a-35e2-42c4-b809-b9bceb2d2834",
   "metadata": {},
   "outputs": [
    {
     "name": "stdout",
     "output_type": "stream",
     "text": [
      "['elderberry']\n"
     ]
    }
   ],
   "source": [
    "word_list = ['apple', 'banana', 'cherry', 'date', 'elderberry']\n",
    "\n",
    "min_length = 6\n",
    "\n",
    "filtered_words = list(filter(lambda a: len(a) > min_length, word_list))\n",
    "\n",
    "print(filtered_words)"
   ]
  },
  {
   "cell_type": "code",
   "execution_count": 41,
   "id": "5a30f0aa-52e0-4712-aa29-944a5f1739b1",
   "metadata": {},
   "outputs": [
    {
     "name": "stdout",
     "output_type": "stream",
     "text": [
      "[40, 50, 60]\n"
     ]
    }
   ],
   "source": [
    "value_list = [10, 20, 30, 40, 50, 60]\n",
    "threshold = 35\n",
    "filtered_values = list(filter(lambda value: value > threshold, value_list))\n",
    "\n",
    "print(filtered_values)"
   ]
  },
  {
   "cell_type": "markdown",
   "id": "59b87b59-2c44-42eb-b518-e34ec1c95dd6",
   "metadata": {},
   "source": [
    "Recursion is a programming concept in which a function calls itself in order to solve a problem.Recursion is a technique where a function solves a problem by breaking it down into smaller, similar sub-problems.in recursion function,the function calls itself with modified arguments,typically moving closer to a base case that represent the simplest scenario where the function doesn't need to recurse further.\n",
    "and iteration is a process where a set of instruction is repeatedly executed. typically within a loop,to solve a problem or perform a task.it uses loops like 'for' and 'while' to repeatedly execute a block of code until a certain condition is met or a fixed number of items"
   ]
  },
  {
   "cell_type": "code",
   "execution_count": 42,
   "id": "dc377294-58a7-46b8-8c08-fd7d0ed2d8a6",
   "metadata": {},
   "outputs": [
    {
     "name": "stdin",
     "output_type": "stream",
     "text": [
      "Enter a number  7\n"
     ]
    },
    {
     "name": "stdout",
     "output_type": "stream",
     "text": [
      "The factorial of 7 is 5040\n"
     ]
    }
   ],
   "source": [
    "def factorial(n):\n",
    "    \n",
    "    if n == 0:\n",
    "        return 1\n",
    "    else:\n",
    "        return n * factorial(n - 1)\n",
    "    \n",
    "num = int(input(\"Enter a number\"))\n",
    "\n",
    "if num < 0:\n",
    "    print(\"Factorial is not defined for negative numbers.\")\n",
    "    \n",
    "else:\n",
    "    result = factorial(num)\n",
    "    print(f\"The factorial of {num} is {result}\")"
   ]
  },
  {
   "cell_type": "code",
   "execution_count": 45,
   "id": "2427d9ba-c6d4-4038-9510-a771e2e115cb",
   "metadata": {},
   "outputs": [
    {
     "name": "stdin",
     "output_type": "stream",
     "text": [
      "Enter the value of n  12\n"
     ]
    },
    {
     "name": "stdout",
     "output_type": "stream",
     "text": [
      "The 12th fibonacci number is 144\n"
     ]
    }
   ],
   "source": [
    "def fibonacci(n):\n",
    "    if n <= 0:\n",
    "        return 0\n",
    "    elif n == 1:\n",
    "        return 1\n",
    "    else:\n",
    "        return fibonacci(n - 1) + fibonacci(n - 2)\n",
    "    \n",
    "n = int(input(\"Enter the value of n\"))\n",
    "\n",
    "if n < 0:\n",
    "    print(\"Fibonacci sequence is not defined for negative number.\")\n",
    "    \n",
    "else:\n",
    "    result = fibonacci(n)\n",
    "    print(f\"The {n}th fibonacci number is {result}\")"
   ]
  },
  {
   "cell_type": "code",
   "execution_count": 2,
   "id": "83e19ba4-4306-4fbf-9739-2c0473782340",
   "metadata": {},
   "outputs": [
    {
     "name": "stdout",
     "output_type": "stream",
     "text": [
      "The sum of the elements in the list is:, 15\n"
     ]
    }
   ],
   "source": [
    "def recursive_sum(lst):\n",
    "    if not lst:\n",
    "        return 0\n",
    "    else:\n",
    "        return lst[0] + recursive_sum(lst[1:])\n",
    "    \n",
    "my_list = [1, 2, 3, 4, 5]\n",
    "\n",
    "result = recursive_sum(my_list)\n",
    "\n",
    "print(f\"The sum of the elements in the list is:, {result}\")"
   ]
  },
  {
   "cell_type": "markdown",
   "id": "2d5a7ced-60aa-4969-abe9-35be79719671",
   "metadata": {},
   "source": [
    "we can prevent a recursive function from running indefinitely and causing a stack overflow error by implementing one or more of the following strategies:\n",
    "1.Base Case: Ensure thet your recursive function has a base case. which defines when the recursion should stop.The base case should be a condition that is guaranteed to be met,allowing the function to return a result without making further recursive calls. without a base case, the recursion will continue indefinitely.\n",
    "2.Proper Recursive progress:"
   ]
  },
  {
   "cell_type": "markdown",
   "id": "c0981b61-90f1-49c9-90d6-fc5c9764114a",
   "metadata": {},
   "source": [
    "Preventing a recursive function from running indefinitely and causing a stack overflow error typically involves implementing some form of termination condition or base case in your recursive function. Here are some steps you can follow to ensure your recursive function doesn't run infinitely:\n",
    "Define a Base Case:\n",
    "Every recursive function should have a base case, which is a condition that, when met, causes the recursion to stop. When your function encounters the base case, it should return a result or terminate without making further recursive calls. The base case should be defined in such a way that it will eventually be reached.\n",
    "Ensure Progress Towards the Base Case:\n",
    "For the recursion to eventually reach the base case, each recursive call should bring you closer to it. In other words, the function's inputs should be modified in such a way that the base case becomes reachable through a finite number of recursive calls.\n",
    "Debug and Test:\n",
    "\n",
    "Thoroughly test your recursive function with various inputs, including edge cases, to ensure that it behaves as expected and terminates correctly. Debug any issues that may lead to infinite recursion.\n",
    "\n",
    "\n",
    "\n"
   ]
  },
  {
   "cell_type": "code",
   "execution_count": 3,
   "id": "fcba4152-4747-4a51-9ee6-b8801eb2116f",
   "metadata": {},
   "outputs": [
    {
     "name": "stdout",
     "output_type": "stream",
     "text": [
      "720\n"
     ]
    }
   ],
   "source": [
    "def factorial(n):\n",
    "    if n == 0:\n",
    "        return 1\n",
    "    if n <0:\n",
    "        return valueError(\"Factorial is not defined for negative number:\")\n",
    "    else:\n",
    "        return n * factorial(n-1)\n",
    "    \n",
    "result = factorial(6)\n",
    "print(result)\n",
    "                          \n",
    "                          "
   ]
  },
  {
   "cell_type": "code",
   "execution_count": 4,
   "id": "babc9e16-ff5f-4301-bc70-d068f02bad8a",
   "metadata": {},
   "outputs": [
    {
     "name": "stdout",
     "output_type": "stream",
     "text": [
      "The gcd of 48 and 18 is 6\n"
     ]
    }
   ],
   "source": [
    "def gcd(a, b):\n",
    "    if b == 0:\n",
    "        return a\n",
    "    else:\n",
    "        return gcd(b, a % b)\n",
    "    \n",
    "num1 = 48\n",
    "num2 =18\n",
    "result = gcd(num1, num2)\n",
    "print(f\"The gcd of {num1} and {num2} is {result}\")"
   ]
  },
  {
   "cell_type": "code",
   "execution_count": 1,
   "id": "5d33a716-3f82-49da-86fc-79aedf747b83",
   "metadata": {},
   "outputs": [
    {
     "name": "stdout",
     "output_type": "stream",
     "text": [
      "Original string: Hello, World!\n",
      "Reverse string: !dlroW ,olleH\n"
     ]
    }
   ],
   "source": [
    "def reverse_string_recursive(input_str):\n",
    "    if len(input_str)<= 1:\n",
    "        return input_str\n",
    "    else:\n",
    "        return reverse_string_recursive(input_str[1:]) + input_str[0]\n",
    "    \n",
    "    \n",
    "input_str = \"Hello, World!\"\n",
    "reversed_str = reverse_string_recursive(input_str)\n",
    "\n",
    "print(f\"Original string: {input_str}\")\n",
    "print(f\"Reverse string: {reversed_str}\")"
   ]
  },
  {
   "cell_type": "code",
   "execution_count": 4,
   "id": "4ca3dfb8-cb4e-4f5c-8883-5587ad66f407",
   "metadata": {},
   "outputs": [
    {
     "name": "stdout",
     "output_type": "stream",
     "text": [
      "16.0\n"
     ]
    }
   ],
   "source": [
    "def power(x, n):\n",
    "    if n == 0:\n",
    "        return 1\n",
    "    elif n < 0:\n",
    "        return 1 / power(x, -n)\n",
    "    else:\n",
    "        partial_result = 1 / power(x, n // 2)\n",
    "        \n",
    "        if n % 2 == 0:\n",
    "            return partial_result * partial_result\n",
    "        else:\n",
    "            return x * partial_result * partial_result\n",
    "        \n",
    "        \n",
    "        \n",
    "result = power(2, 4)\n",
    "\n",
    "print(result)\n",
    "        \n",
    "        \n",
    "        "
   ]
  },
  {
   "cell_type": "code",
   "execution_count": 6,
   "id": "7591a99f-d469-46f7-9164-b8d73e367b4a",
   "metadata": {},
   "outputs": [
    {
     "ename": "RecursionError",
     "evalue": "maximum recursion depth exceeded while calling a Python object",
     "output_type": "error",
     "traceback": [
      "\u001b[0;31m---------------------------------------------------------------------------\u001b[0m",
      "\u001b[0;31mRecursionError\u001b[0m                            Traceback (most recent call last)",
      "Cell \u001b[0;32mIn[6], line 22\u001b[0m\n\u001b[1;32m     18\u001b[0m         \u001b[38;5;28;01mreturn\u001b[39;00m permutations\n\u001b[1;32m     21\u001b[0m input_string \u001b[38;5;241m=\u001b[39m \u001b[38;5;124m\"\u001b[39m\u001b[38;5;124mrashmi\u001b[39m\u001b[38;5;124m\"\u001b[39m\n\u001b[0;32m---> 22\u001b[0m result \u001b[38;5;241m=\u001b[39m \u001b[43mget_permutations\u001b[49m\u001b[43m(\u001b[49m\u001b[43minput_string\u001b[49m\u001b[43m)\u001b[49m\n\u001b[1;32m     24\u001b[0m \u001b[38;5;28mprint\u001b[39m(result)\n",
      "Cell \u001b[0;32mIn[6], line 12\u001b[0m, in \u001b[0;36mget_permutations\u001b[0;34m(string)\u001b[0m\n\u001b[1;32m      9\u001b[0m \u001b[38;5;28;01mfor\u001b[39;00m char \u001b[38;5;129;01min\u001b[39;00m string:\n\u001b[1;32m     10\u001b[0m     remaining_chars \u001b[38;5;241m=\u001b[39m string\u001b[38;5;241m.\u001b[39mreplace(char, \u001b[38;5;124m'\u001b[39m\u001b[38;5;124m \u001b[39m\u001b[38;5;124m'\u001b[39m,\u001b[38;5;241m1\u001b[39m)\n\u001b[0;32m---> 12\u001b[0m     remaining_permutations \u001b[38;5;241m=\u001b[39m \u001b[43mget_permutations\u001b[49m\u001b[43m(\u001b[49m\u001b[43mremaining_chars\u001b[49m\u001b[43m)\u001b[49m\n\u001b[1;32m     14\u001b[0m \u001b[38;5;28;01mfor\u001b[39;00m perm \u001b[38;5;129;01min\u001b[39;00m remaining_permutations:\n\u001b[1;32m     16\u001b[0m     permutations\u001b[38;5;241m.\u001b[39mappend(char \u001b[38;5;241m+\u001b[39m perm)\n",
      "Cell \u001b[0;32mIn[6], line 12\u001b[0m, in \u001b[0;36mget_permutations\u001b[0;34m(string)\u001b[0m\n\u001b[1;32m      9\u001b[0m \u001b[38;5;28;01mfor\u001b[39;00m char \u001b[38;5;129;01min\u001b[39;00m string:\n\u001b[1;32m     10\u001b[0m     remaining_chars \u001b[38;5;241m=\u001b[39m string\u001b[38;5;241m.\u001b[39mreplace(char, \u001b[38;5;124m'\u001b[39m\u001b[38;5;124m \u001b[39m\u001b[38;5;124m'\u001b[39m,\u001b[38;5;241m1\u001b[39m)\n\u001b[0;32m---> 12\u001b[0m     remaining_permutations \u001b[38;5;241m=\u001b[39m \u001b[43mget_permutations\u001b[49m\u001b[43m(\u001b[49m\u001b[43mremaining_chars\u001b[49m\u001b[43m)\u001b[49m\n\u001b[1;32m     14\u001b[0m \u001b[38;5;28;01mfor\u001b[39;00m perm \u001b[38;5;129;01min\u001b[39;00m remaining_permutations:\n\u001b[1;32m     16\u001b[0m     permutations\u001b[38;5;241m.\u001b[39mappend(char \u001b[38;5;241m+\u001b[39m perm)\n",
      "    \u001b[0;31m[... skipping similar frames: get_permutations at line 12 (2969 times)]\u001b[0m\n",
      "Cell \u001b[0;32mIn[6], line 12\u001b[0m, in \u001b[0;36mget_permutations\u001b[0;34m(string)\u001b[0m\n\u001b[1;32m      9\u001b[0m \u001b[38;5;28;01mfor\u001b[39;00m char \u001b[38;5;129;01min\u001b[39;00m string:\n\u001b[1;32m     10\u001b[0m     remaining_chars \u001b[38;5;241m=\u001b[39m string\u001b[38;5;241m.\u001b[39mreplace(char, \u001b[38;5;124m'\u001b[39m\u001b[38;5;124m \u001b[39m\u001b[38;5;124m'\u001b[39m,\u001b[38;5;241m1\u001b[39m)\n\u001b[0;32m---> 12\u001b[0m     remaining_permutations \u001b[38;5;241m=\u001b[39m \u001b[43mget_permutations\u001b[49m\u001b[43m(\u001b[49m\u001b[43mremaining_chars\u001b[49m\u001b[43m)\u001b[49m\n\u001b[1;32m     14\u001b[0m \u001b[38;5;28;01mfor\u001b[39;00m perm \u001b[38;5;129;01min\u001b[39;00m remaining_permutations:\n\u001b[1;32m     16\u001b[0m     permutations\u001b[38;5;241m.\u001b[39mappend(char \u001b[38;5;241m+\u001b[39m perm)\n",
      "Cell \u001b[0;32mIn[6], line 2\u001b[0m, in \u001b[0;36mget_permutations\u001b[0;34m(string)\u001b[0m\n\u001b[1;32m      1\u001b[0m \u001b[38;5;28;01mdef\u001b[39;00m \u001b[38;5;21mget_permutations\u001b[39m(string):\n\u001b[0;32m----> 2\u001b[0m     \u001b[38;5;28;01mif\u001b[39;00m \u001b[38;5;28;43mlen\u001b[39;49m\u001b[43m(\u001b[49m\u001b[43mstring\u001b[49m\u001b[43m)\u001b[49m \u001b[38;5;241m<\u001b[39m\u001b[38;5;241m=\u001b[39m \u001b[38;5;241m1\u001b[39m:\n\u001b[1;32m      3\u001b[0m         \u001b[38;5;28;01mreturn\u001b[39;00m [string]\n\u001b[1;32m      6\u001b[0m     permutations \u001b[38;5;241m=\u001b[39m []\n",
      "\u001b[0;31mRecursionError\u001b[0m: maximum recursion depth exceeded while calling a Python object"
     ]
    }
   ],
   "source": [
    "def get_permutations(string):\n",
    "    if len(string) <= 1:\n",
    "        return [string]\n",
    "    \n",
    "    \n",
    "    permutations = []\n",
    "    \n",
    "    \n",
    "    for char in string:\n",
    "        remaining_chars = string.replace(char, ' ',1)\n",
    "        \n",
    "        remaining_permutations = get_permutations(remaining_chars)\n",
    "        \n",
    "    for perm in remaining_permutations:\n",
    "        \n",
    "        permutations.append(char + perm)\n",
    "        \n",
    "        return permutations\n",
    "    \n",
    "    \n",
    "input_string = \"rashmi\"\n",
    "result = get_permutations(input_string)\n",
    "\n",
    "print(result)\n",
    "\n",
    "    \n",
    "    \n",
    "        \n",
    "        \n",
    "        \n",
    "\n",
    "    "
   ]
  },
  {
   "cell_type": "code",
   "execution_count": 8,
   "id": "10c97a59-a62c-47c5-87d5-51f0ea532d59",
   "metadata": {},
   "outputs": [
    {
     "name": "stdout",
     "output_type": "stream",
     "text": [
      "True\n",
      "False\n"
     ]
    }
   ],
   "source": [
    "def is_polindrome(s):\n",
    "    if len(s) <=1:\n",
    "        return True\n",
    "    \n",
    "    if s[0] == s[-1]:\n",
    "        return is_polindrome(s[1:-1])\n",
    "    else:\n",
    "        return False\n",
    "    \n",
    "    \n",
    "string1 = \"racecar\"\n",
    "string2 = \"hello\"\n",
    "\n",
    "print(is_polindrome(string1))\n",
    "print(is_polindrome(string2))\n",
    "    \n",
    "    \n",
    "    \n",
    "    "
   ]
  },
  {
   "cell_type": "code",
   "execution_count": 6,
   "id": "9688c05d-61da-44ae-aeaa-0325d703f4f9",
   "metadata": {},
   "outputs": [
    {
     "name": "stdout",
     "output_type": "stream",
     "text": [
      "[2, 1]\n",
      "[3, 1]\n",
      "[3, 2]\n"
     ]
    }
   ],
   "source": [
    "def generate_combinations(element, k):\n",
    "    if k == 0:\n",
    "        return [[]]\n",
    "    if len(element) == 0:\n",
    "        return []\n",
    "    \n",
    "    first_element = element[0]\n",
    "    rest_of_elements = element[1:]\n",
    "    \n",
    "    combinations_with_first = generate_combinations(rest_of_elements, k-1)\n",
    "    for combination in combinations_with_first:\n",
    "        combination.append(first_element)\n",
    "        \n",
    "    combinations_without_first = generate_combinations(rest_of_elements, k)\n",
    "    return combinations_with_first + combinations_without_first\n",
    "\n",
    "\n",
    "element = [1, 2, 3]\n",
    "k = 2\n",
    "result = generate_combinations(element, k)\n",
    "for combination in result:\n",
    "    print(combination)"
   ]
  },
  {
   "cell_type": "markdown",
   "id": "7ed3471d-d6f9-408c-b176-fda8921f886d",
   "metadata": {},
   "source": [
    "In python, a function is a reusable block of code that performs a specific task or set of tasks.Functions are a fundamental conceot in programming and serve several important purposes\n",
    "Modularity: Functions allow you to break your code into smaller, manageable pieces. Instead of writing all the code in a single, monolithic script, you can create functions to encapsulate specific functionality. This promotes code organization and makes it easier to understand, maintain, and debug your code.\n",
    "\n",
    "Reusability: Once you define a function, you can call it multiple times from different parts of your program. This reusability eliminates the need to rewrite the same code multiple times, reducing redundancy and ensuring consistency.\n",
    "\n",
    "\n",
    "Abstraction: Functions provide a level of abstraction. When you call a function, you don't need to know the internal details of how it accomplishes its task. You only need to understand its inputs (arguments) and outputs (return values), making your code more readable and less error-prone.\n",
    "\n",
    "\n",
    "Parameterization: Functions can accept input values, known as arguments or parameters, which allow you to customize their behavior. This parameterization makes functions flexible and adaptable to different situations.\n",
    "\n",
    "\n",
    "\n"
   ]
  },
  {
   "cell_type": "code",
   "execution_count": 7,
   "id": "11a6c7f4-8010-45e5-ab6f-5a4dc571c318",
   "metadata": {},
   "outputs": [
    {
     "name": "stdout",
     "output_type": "stream",
     "text": [
      "Hello, Alice!\n",
      "Hello, Bob!\n"
     ]
    }
   ],
   "source": [
    "def greet(name):\n",
    "    \"\"\"\n",
    "    this function greets a person by name.\n",
    "    \"\"\"\n",
    "    print(f\"Hello, {name}!\")\n",
    "    \n",
    "greet(\"Alice\")\n",
    "greet(\"Bob\")"
   ]
  },
  {
   "cell_type": "markdown",
   "id": "4b987596-dbbd-49ea-94d0-b8b1777cc7e2",
   "metadata": {},
   "source": [
    "In Python, there are two distinct phases when working with functions: function definition and function call. These two phases serve different purposes and are crucial for understanding how functions work in the language.\n",
    "\n",
    "Function Definition:\n",
    "Purpose: The function definition is the process of creating a reusable block of code that specifies what the function does when it's called.\n",
    "\n",
    "Syntax: You define a function using the def keyword, followed by the function name, a pair of parentheses for parameters (if any), and a colon. The function's code block is indented below."
   ]
  },
  {
   "cell_type": "code",
   "execution_count": 8,
   "id": "c47ecb0f-dbfd-49f5-aecd-3153ba6eab58",
   "metadata": {},
   "outputs": [],
   "source": [
    "def greet(name):\n",
    "    print(f\"Hello, {name}!\")"
   ]
  },
  {
   "cell_type": "markdown",
   "id": "0463d739-ddcf-47f9-b1f9-16f7b60884cb",
   "metadata": {},
   "source": [
    "Function Call:\n",
    "\n",
    "Purpose: A function call is the process of executing a previously defined function by providing the necessary arguments (if any). It invokes the function to perform its specified task.\n",
    "\n",
    "\n",
    "Syntax: To call a function, you use the function's name followed by a pair of parentheses, within which you pass the required arguments.\n"
   ]
  },
  {
   "cell_type": "code",
   "execution_count": 9,
   "id": "56806ca5-ef09-4127-ad04-f610962a3f4c",
   "metadata": {},
   "outputs": [
    {
     "name": "stdout",
     "output_type": "stream",
     "text": [
      "Hello, Alice!\n",
      "Hello, Bob!\n"
     ]
    }
   ],
   "source": [
    "greet(\"Alice\")\n",
    "greet(\"Bob\")"
   ]
  },
  {
   "cell_type": "code",
   "execution_count": 11,
   "id": "52416ae2-4324-4506-b86e-8f73d933f119",
   "metadata": {},
   "outputs": [
    {
     "name": "stdin",
     "output_type": "stream",
     "text": [
      "Enter the first number:  12\n",
      "Enter the second number: 24\n"
     ]
    },
    {
     "name": "stdout",
     "output_type": "stream",
     "text": [
      "The sum of 12.0 and 24.0 is 36.0\n"
     ]
    }
   ],
   "source": [
    "def add_numbers(a, b):\n",
    "    result = a + b\n",
    "    return result\n",
    "\n",
    "num1 = float(input(\"Enter the first number:\"))\n",
    "num2 = float(input(\"Enter the second number:\"))\n",
    "\n",
    "sum_result = add_numbers(num1, num2)\n",
    "\n",
    "\n",
    "print(f\"The sum of {num1} and {num2} is {sum_result}\")"
   ]
  },
  {
   "cell_type": "markdown",
   "id": "23dcbe10-9038-4275-b559-d8827ba4fe64",
   "metadata": {},
   "source": [
    "A function signature, also known as a function prototype or function declaration, is a way to declare a function in code, providing essential information about how the function should be used without necessarily including the implementation details. It typically includes the following information:\n",
    "\n",
    "Function Name: The name that identifies the function. It's used to call the function later in the code.\n",
    "\n",
    "Return Type: The data type of the value that the function will return. It specifies what kind of result you can expect when you call the function. In some programming languages, like Python, this is not explicitly specified.\n",
    "\n",
    "Parameters: The list of input values that the function expects. Each parameter includes:\n",
    "\n",
    "Parameter Name: The name that will be used to refer to the input value within the function.\n",
    "Data Type: The data type or type hint of the parameter, specifying the expected type of the input.\n",
    "\n",
    "\n",
    "Access Modifiers (Optional): In languages like C++ and Java, you can specify access modifiers like public, private, or protected to control the visibility and accessibility of the function.\n",
    "return_type function_name(parameter1_type parameter1_name, parameter2_type parameter2_name, ...)\n",
    "\n"
   ]
  },
  {
   "cell_type": "code",
   "execution_count": 13,
   "id": "9c4a99c7-4794-40fb-9a65-c933483aae6c",
   "metadata": {},
   "outputs": [
    {
     "name": "stdin",
     "output_type": "stream",
     "text": [
      "Enter the first number  14\n",
      "Enter the second number 4\n"
     ]
    },
    {
     "name": "stdout",
     "output_type": "stream",
     "text": [
      "The product of 14 and 4 is 56\n"
     ]
    }
   ],
   "source": [
    "def multiply(a, b):\n",
    "    return a*b\n",
    "num1 = int(input(\"Enter the first number\"))\n",
    "num2 = int(input(\"Enter the second number\"))\n",
    "\n",
    "product = multiply(num1, num2)\n",
    "\n",
    "print(f\"The product of {num1} and {num2} is {product}\")"
   ]
  },
  {
   "cell_type": "markdown",
   "id": "2e0a2389-0226-4488-9f04-98616aca792b",
   "metadata": {},
   "source": [
    "Formal Parameters:\n",
    "Definition: Formal parameters are the placeholders or variables that you define in the function's signature or parameter list. They represent the values that the function expects to receive when it's called.\n",
    "\n",
    "Purpose: Formal parameters define the structure of the function and specify what kind of input the function will work with. They act as local variables within the function's scope.\n"
   ]
  },
  {
   "cell_type": "code",
   "execution_count": 14,
   "id": "ac32099c-3d22-443b-be78-35333dedfb6a",
   "metadata": {},
   "outputs": [],
   "source": [
    "def add(x, y):\n",
    "    result = x + y\n",
    "    return result"
   ]
  },
  {
   "cell_type": "markdown",
   "id": "32cbed0c-81a8-45f4-96eb-e2ce1fb9d513",
   "metadata": {},
   "source": [
    "Actual Arguments:\n",
    "\n",
    "Definition: Actual arguments, also known as arguments or actual parameters, are the real values or variables that you provide when calling a function. These values are passed into the function and take the place of the formal parameters.\n",
    "\n",
    "Purpose: Actual arguments supply the actual data or variables that the function will operate on. They provide the input to the function and can be of various types, such as variables, literals, or expressions.\n",
    "\n"
   ]
  },
  {
   "cell_type": "code",
   "execution_count": 15,
   "id": "902b3089-7119-485d-9f2a-1fd68d4d2bdc",
   "metadata": {},
   "outputs": [],
   "source": [
    "sum_result = add(3, 5)"
   ]
  },
  {
   "cell_type": "code",
   "execution_count": 16,
   "id": "f13b496c-2b50-4ff9-8a87-01a063aa2711",
   "metadata": {},
   "outputs": [],
   "source": [
    "def greet(name=\"Guest\"):\n",
    "    \"\"\"\n",
    "    This function greets a person by name.If no name is provided.it defaults to \"Guest.\"\"\"\n",
    "    print(f\"Hello, {name}!\")\n",
    "    \n",
    "    greet(\"Alice\")\n",
    "    greet()"
   ]
  },
  {
   "cell_type": "markdown",
   "id": "df4bd6b2-a00f-4214-878f-3c750f8ac151",
   "metadata": {},
   "source": [
    "In Python, you can use keyword arguments in function calls to specify which argument corresponds to which parameter explicitly, without relying on the order of arguments. This can make your code more readable and self-explanatory, especially when dealing with functions that have many parameters.\n",
    "\n",
    "\n",
    "To use keyword arguments, you provide the parameter names followed by the = sign and the values you want to pass to those parameters. Here's an example:\n",
    "\n",
    "\n"
   ]
  },
  {
   "cell_type": "code",
   "execution_count": 1,
   "id": "2d286f86-d38b-4ba7-a8d1-dd8a09824172",
   "metadata": {},
   "outputs": [],
   "source": [
    "def calculate_sum(*args):\n",
    "    total = 0\n",
    "    for num in args:\n",
    "        total += num\n",
    "    return total"
   ]
  },
  {
   "cell_type": "code",
   "execution_count": 2,
   "id": "e4775b46-188c-4876-9fef-2aa7301a659d",
   "metadata": {},
   "outputs": [
    {
     "name": "stdout",
     "output_type": "stream",
     "text": [
      "15\n",
      "60\n",
      "11.5\n"
     ]
    }
   ],
   "source": [
    "result1 = calculate_sum(1, 2, 3, 4, 5)\n",
    "print(result1)\n",
    "\n",
    "result2 = calculate_sum(10, 20, 30)\n",
    "print(result2)\n",
    "\n",
    "result3 = calculate_sum(2.5, 3.5, 4.0, 1.5)\n",
    "print(result3)"
   ]
  },
  {
   "cell_type": "markdown",
   "id": "84880dba-5a36-45d1-944b-4c5eb4ca702c",
   "metadata": {},
   "source": [
    "The *args and **kwargs syntax in function parameter lists are used to work with a variable number of arguments and keyword arguments in Python functions. They allow you to create more flexible and versatile functions that can handle different input scenarios.\n",
    "\n",
    "*args (Arbitrary Positional Arguments):\n",
    "*args stands for \"arguments\" and is used to collect an arbitrary number of positional arguments into a tuple.\n",
    "\n",
    "It allows you to pass any number of positional arguments to the function.\n",
    "\n",
    "You can access these arguments within the function as a tuple.\n",
    "This is useful when you don't know in advance how many arguments will be passed to the function.\n"
   ]
  },
  {
   "cell_type": "code",
   "execution_count": 8,
   "id": "d45e7620-46e0-4eef-847c-2ed62de89c09",
   "metadata": {},
   "outputs": [],
   "source": [
    "def add(*args):\n",
    "    total = 0\n",
    "    for num in args:\n",
    "        total += num\n",
    "    return total\n",
    "\n",
    "result = add(1,2,3,4,5)"
   ]
  },
  {
   "cell_type": "markdown",
   "id": "04847e6d-45c9-4aa0-8256-c0b0f26a6bea",
   "metadata": {},
   "source": [
    "**kwargs (Arbitrary Keyword Arguments):\n",
    "\n",
    "**kwargs stands for \"keyword arguments\" and is used to collect an arbitrary number of keyword arguments into a dictionary.\n",
    "\n",
    "It allows you to pass any number of keyword arguments to the function.\n",
    "\n",
    "You can access these keyword arguments within the function as a dictionary.\n",
    "\n",
    "This is useful when you want to pass named arguments with values and handle them flexibly in the function.\n",
    "\n"
   ]
  },
  {
   "cell_type": "code",
   "execution_count": 9,
   "id": "0cafd68c-7e49-4156-a24d-ad32d4ac3ae2",
   "metadata": {},
   "outputs": [
    {
     "name": "stdout",
     "output_type": "stream",
     "text": [
      "name: rashmi\n",
      "age: 24\n",
      "city: Bhubaneswar\n"
     ]
    }
   ],
   "source": [
    "def display_info(**kwargs):\n",
    "    for key, value in kwargs.items():\n",
    "        print(f\"{key}: {value}\")\n",
    "        \n",
    "display_info(name=\"rashmi\", age=24, city=\"Bhubaneswar\")"
   ]
  },
  {
   "cell_type": "markdown",
   "id": "c93a241f-f635-435d-af00-3c38dbb11aec",
   "metadata": {},
   "source": [
    "The return statement in Python functions is used to specify the value that a function should produce or output. It marks the end of the function's execution, and the value specified after return is what the function will return to the caller. The return statement serves several key roles in Python functions:\n",
    "\n",
    "1.Returning Values: It allows a function to provide a result or value back to the caller. This is essential for functions to be able to perform computations and produce useful outputs.\n",
    "\n",
    "example:"
   ]
  },
  {
   "cell_type": "code",
   "execution_count": 11,
   "id": "082b471a-87d3-40a0-ab68-fb48d0cd7aec",
   "metadata": {},
   "outputs": [
    {
     "name": "stdout",
     "output_type": "stream",
     "text": [
      "5\n"
     ]
    }
   ],
   "source": [
    "def add(a, b):\n",
    "    result = a + b\n",
    "    return result\n",
    "\n",
    "sum_result = add(2,3)\n",
    "print(sum_result)"
   ]
  },
  {
   "cell_type": "markdown",
   "id": "050db365-7ccd-48b0-9ace-f4d0d2e1edd2",
   "metadata": {},
   "source": [
    "2.Exiting the Function: The return statement also serves as a way to exit the function's execution prematurely. Once a return statement is encountered, the function will immediately exit, and the control flow returns to the caller.\n",
    "\n",
    "example:"
   ]
  },
  {
   "cell_type": "code",
   "execution_count": 12,
   "id": "9facd169-1a27-4086-839b-1b11d0d5158a",
   "metadata": {},
   "outputs": [
    {
     "name": "stdout",
     "output_type": "stream",
     "text": [
      "True\n"
     ]
    }
   ],
   "source": [
    "def is_positive(number):\n",
    "    if number > 0:\n",
    "        return True\n",
    "    else:\n",
    "        return False\n",
    "    \n",
    "result = is_positive(6)\n",
    "print(result)"
   ]
  },
  {
   "cell_type": "markdown",
   "id": "781a2d27-06af-4163-ac2f-4b24bdc275f7",
   "metadata": {},
   "source": [
    "3.Returning Multiple Values: You can use return to return multiple values from a function by separating them with commas. In this case, Python returns a tuple containing the values.\n",
    "\n",
    "example:"
   ]
  },
  {
   "cell_type": "code",
   "execution_count": 14,
   "id": "e3931b39-f6a3-4c41-bc56-d3d848361637",
   "metadata": {},
   "outputs": [
    {
     "name": "stdout",
     "output_type": "stream",
     "text": [
      "(15, 3.0)\n"
     ]
    }
   ],
   "source": [
    "def calculate_stats(numbers):\n",
    "    total = sum(numbers)\n",
    "    average = total / len(numbers)\n",
    "    return total, average\n",
    "\n",
    "result = calculate_stats([1, 2, 3, 4, 5])\n",
    "print(result)"
   ]
  },
  {
   "cell_type": "markdown",
   "id": "58213716-18d6-4bb2-9452-d50dad0d2069",
   "metadata": {},
   "source": [
    "4.Returning None: If a function doesn't explicitly use a return statement or if it uses return without specifying a value, it implicitly returns None. This is often used in functions with side effects, where the primary purpose is not to return a value but to perform actions like printing or modifying data.\n",
    "\n",
    "example:"
   ]
  },
  {
   "cell_type": "code",
   "execution_count": 15,
   "id": "fccaf3a6-85c3-4fa2-ba62-09717ad932a4",
   "metadata": {},
   "outputs": [
    {
     "name": "stdout",
     "output_type": "stream",
     "text": [
      "Hello, rashmi!\n",
      "None\n"
     ]
    }
   ],
   "source": [
    "def greet(name):\n",
    "    print(f\"Hello, {name}!\")\n",
    "    \n",
    "result = greet(\"rashmi\")\n",
    "print(result)"
   ]
  },
  {
   "cell_type": "markdown",
   "id": "bed19768-ae0a-4649-9f97-4e15856e1cb3",
   "metadata": {},
   "source": [
    "Variable scope in Python refers to the region of the code where a particular variable is visible and can be accessed. Understanding variable scope is crucial for writing clean, bug-free, and maintainable code. Python has two main types of variable scope: local and global.\n",
    "\n",
    "1.Local Variable Scope:\n",
    ".Local variables are those defined within a function or block of code.\n",
    ".They are only accessible within the specific function or block where they are defined.\n",
    ".Once the function or block of code exits, the local variables are destroyed, and their values are no longer accessible.\n",
    "\n",
    "example:"
   ]
  },
  {
   "cell_type": "code",
   "execution_count": 16,
   "id": "e38925d7-b8b0-4d29-b791-1388b8b52cdb",
   "metadata": {},
   "outputs": [
    {
     "name": "stdout",
     "output_type": "stream",
     "text": [
      "10\n"
     ]
    }
   ],
   "source": [
    "def my_function():\n",
    "    x = 10\n",
    "    print(x)\n",
    "    \n",
    "my_function()"
   ]
  },
  {
   "cell_type": "markdown",
   "id": "d21e2384-a744-4651-9c69-486185f1253d",
   "metadata": {},
   "source": [
    "2.Global Variable Scope:\n",
    ".Global variables are defined at the top level of a script or module, outside of any function.\n",
    ".They are accessible from anywhere within the script or module, including within functions.\n",
    ".Global variables maintain their values as long as the script or module is running.\n",
    "\n",
    "example:"
   ]
  },
  {
   "cell_type": "code",
   "execution_count": 17,
   "id": "195d8bfe-7125-459f-adad-1ac68a629dfc",
   "metadata": {},
   "outputs": [
    {
     "name": "stdout",
     "output_type": "stream",
     "text": [
      "20\n",
      "20\n"
     ]
    }
   ],
   "source": [
    "y = 20\n",
    "\n",
    "def another_function():\n",
    "    print(y)\n",
    "    \n",
    "another_function()\n",
    "print(y)"
   ]
  },
  {
   "cell_type": "markdown",
   "id": "cca040da-5f2a-4af7-af86-292ec3a7623c",
   "metadata": {},
   "source": [
    "3.Local Variables Take Precedence:\n",
    ".If there is a variable with the same name in both local and global scopes, the local variable takes precedence when accessed within the local scope.\n",
    "\n",
    "example:"
   ]
  },
  {
   "cell_type": "code",
   "execution_count": 18,
   "id": "decb2a95-0098-41a5-a87a-54e35b1d4881",
   "metadata": {},
   "outputs": [
    {
     "name": "stdout",
     "output_type": "stream",
     "text": [
      "40\n",
      "30\n"
     ]
    }
   ],
   "source": [
    "z = 30\n",
    "\n",
    "def my_function():\n",
    "    z = 40\n",
    "    print(z)\n",
    "    \n",
    "my_function()\n",
    "print(z)"
   ]
  },
  {
   "cell_type": "markdown",
   "id": "05d4126f-6f7d-47dd-a9bb-7000b116690f",
   "metadata": {},
   "source": [
    "4.Modifying Global Variables from Local Scope:\n",
    ".To modify a global variable from within a local scope (e.g., inside a function), you need to use the global keyword to declare that you intend to work with the global variable.\n",
    "\n",
    "example:"
   ]
  },
  {
   "cell_type": "code",
   "execution_count": 19,
   "id": "06104407-b949-49ca-9331-6f96cc4c8196",
   "metadata": {},
   "outputs": [
    {
     "name": "stdout",
     "output_type": "stream",
     "text": [
      "60\n"
     ]
    }
   ],
   "source": [
    "global_variable = 50\n",
    "\n",
    "def modify_global():\n",
    "    global global_variable\n",
    "    global_variable += 10\n",
    "    \n",
    "modify_global()\n",
    "print(global_variable)"
   ]
  },
  {
   "cell_type": "code",
   "execution_count": 21,
   "id": "f58b2f06-4958-4289-b8ce-4e2ac446761c",
   "metadata": {},
   "outputs": [
    {
     "name": "stdout",
     "output_type": "stream",
     "text": [
      "Before modification:\n",
      "Inside use_global function:\n",
      "Global variable: 10\n",
      "\n",
      "After modification:\n",
      "Inside use_global function:\n",
      "Global variable: 16\n"
     ]
    }
   ],
   "source": [
    "global_variable = 10\n",
    "\n",
    "def modify_global():\n",
    "    global global_variable\n",
    "    global_variable += 6\n",
    "    \n",
    "def use_global():\n",
    "    print(\"Inside use_global function:\")\n",
    "    print(\"Global variable:\", global_variable)\n",
    "    \n",
    "    \n",
    "print(\"Before modification:\")\n",
    "use_global()\n",
    "\n",
    "modify_global()\n",
    "\n",
    "print(\"\\nAfter modification:\")\n",
    "use_global()"
   ]
  },
  {
   "cell_type": "code",
   "execution_count": 22,
   "id": "107e63ca-f0b5-4440-b0a4-b5e8876c173a",
   "metadata": {},
   "outputs": [],
   "source": [
    "def factorial(n):\n",
    "    if n == 0:\n",
    "        return 1\n",
    "    else:\n",
    "        return n * factorial(n-1)"
   ]
  },
  {
   "cell_type": "code",
   "execution_count": 23,
   "id": "f42a97ef-d22a-4210-98d3-f21abca38f92",
   "metadata": {},
   "outputs": [
    {
     "data": {
      "text/plain": [
       "120"
      ]
     },
     "execution_count": 23,
     "metadata": {},
     "output_type": "execute_result"
    }
   ],
   "source": [
    "factorial(5)"
   ]
  },
  {
   "cell_type": "code",
   "execution_count": 24,
   "id": "3eb97c2b-843c-49df-b258-2245c3676571",
   "metadata": {},
   "outputs": [
    {
     "name": "stdout",
     "output_type": "stream",
     "text": [
      "Inside the function:\n",
      "Global variable: 42\n",
      "Outside the function:\n",
      "Global variable: 42\n"
     ]
    }
   ],
   "source": [
    "global_var = 42\n",
    "\n",
    "def access_global_variable():\n",
    "    print(\"Inside the function:\")\n",
    "    print(\"Global variable:\", global_var)\n",
    "    \n",
    "access_global_variable()\n",
    "\n",
    "print(\"Outside the function:\")\n",
    "print(\"Global variable:\", global_var)"
   ]
  },
  {
   "cell_type": "markdown",
   "id": "a1ee8f2d-7526-4377-b7f8-566ba3d6770c",
   "metadata": {},
   "source": [
    "Lambda functions in Python, also known as anonymous functions or lambda expressions, are small, inline functions defined using the lambda keyword. They are typically used for simple operations and are not designed for complex logic. Lambda functions are particularly useful in situations where you need a small, temporary function for a short period of time. Here are some key characteristics and use cases for lambda functions:\n",
    "\n",
    "1.Syntax\n",
    ".The basic syntax of a lambda function is as follows: lambda arguments: expression.\n",
    ".Lambda functions can take any number of arguments but can only have one expression.\n"
   ]
  },
  {
   "cell_type": "code",
   "execution_count": 25,
   "id": "4fedf3dc-2949-4506-993f-d5bd9c2f4c36",
   "metadata": {},
   "outputs": [],
   "source": [
    "data = [(1, 5), (3, 2), (2, 8)]\n",
    "\n",
    "sorted_data = sorted(data, key = lambda x: x[1])"
   ]
  },
  {
   "cell_type": "code",
   "execution_count": 26,
   "id": "c02b8924-227d-4e00-8206-c3fe01e36c15",
   "metadata": {},
   "outputs": [
    {
     "data": {
      "text/plain": [
       "[(3, 2), (1, 5), (2, 8)]"
      ]
     },
     "execution_count": 26,
     "metadata": {},
     "output_type": "execute_result"
    }
   ],
   "source": [
    "sorted_data"
   ]
  },
  {
   "cell_type": "code",
   "execution_count": 27,
   "id": "a497baa1-89c3-469f-aa73-ff630cd1c776",
   "metadata": {},
   "outputs": [],
   "source": [
    "numbers = [1,2,3,4,5,6,7,8,9,10]\n",
    "\n",
    "even_numbers = list(filter(lambda x: x % 2 ==0, numbers))"
   ]
  },
  {
   "cell_type": "code",
   "execution_count": 28,
   "id": "766e3961-b7e5-45d9-8173-dc039fab540d",
   "metadata": {},
   "outputs": [
    {
     "data": {
      "text/plain": [
       "[2, 4, 6, 8, 10]"
      ]
     },
     "execution_count": 28,
     "metadata": {},
     "output_type": "execute_result"
    }
   ],
   "source": [
    "even_numbers"
   ]
  },
  {
   "cell_type": "code",
   "execution_count": 32,
   "id": "e522fc57-eff5-4d9e-9dc5-b2ab78341165",
   "metadata": {},
   "outputs": [
    {
     "name": "stdout",
     "output_type": "stream",
     "text": [
      "(4, 1)\n",
      "(3, 2)\n",
      "(1, 5)\n",
      "(2, 8)\n"
     ]
    }
   ],
   "source": [
    "data = [(1, 5), (3, 2), (2, 8), (4, 1)]\n",
    "\n",
    "sorted_data = sorted(data, key = lambda x: x[1])\n",
    "\n",
    "for item in sorted_data:\n",
    "    \n",
    "    print(item)"
   ]
  },
  {
   "cell_type": "markdown",
   "id": "aabe468d-b45b-4e98-afc4-7d46bc2fbc51",
   "metadata": {},
   "source": [
    "In Python, a higher-order function is a function that can take one or more functions as arguments and/or return a function as its result. In other words, it treats functions as first-class citizens, allowing you to use functions as data, pass them around, and manipulate them just like any other data type. Higher-order functions are a fundamental concept in functional programming and provide a powerful way to abstract and generalize code.\n",
    "\n",
    "Here are some key characteristics of higher-order functions:\n",
    "1.Functions as Parameters: Higher-order functions can accept other functions as arguments.\n",
    "\n",
    "2.Abstraction: They enable code abstraction by allowing you to encapsulate behaviors within functions and pass those behaviors as arguments.\n",
    "\n",
    "3.Functions as Return Values: Higher-order functions can return functions as their results.\n",
    "\n",
    "4.Flexibility: Higher-order functions promote code reusability and flexibility by allowing you to change behavior at runtime.\n",
    "\n",
    "\n",
    "\n",
    "Here's an example of a higher-order function in Python:\n",
    "\n"
   ]
  },
  {
   "cell_type": "code",
   "execution_count": 34,
   "id": "c4100053-da11-4005-bee4-bde59c48cc04",
   "metadata": {},
   "outputs": [
    {
     "name": "stdout",
     "output_type": "stream",
     "text": [
      "Result 1: 8\n",
      "Result 2: 6\n",
      "Result 3: 14\n"
     ]
    }
   ],
   "source": [
    "def apply_operations(operation, x, y):\n",
    "    return operation(x, y)\n",
    "\n",
    "def add(a, b):\n",
    "    return a+ b\n",
    "\n",
    "def subtract(a, b):\n",
    "    return a - b\n",
    "\n",
    "def multiply(a, b):\n",
    "    return a * b\n",
    "\n",
    "result1 = apply_operations(add, 5, 3)\n",
    "result2 = apply_operations(subtract, 10, 4)\n",
    "result3 = apply_operations(multiply, 7, 2)\n",
    "\n",
    "print(\"Result 1:\", result1)\n",
    "print(\"Result 2:\", result2)\n",
    "print(\"Result 3:\", result3)"
   ]
  },
  {
   "cell_type": "code",
   "execution_count": 35,
   "id": "d28c9812-2aa7-47e3-b401-1d77bd802253",
   "metadata": {},
   "outputs": [],
   "source": [
    "def apply_function_to_list(numbers, func):\n",
    "    result =  []\n",
    "    \n",
    "    for num in numbers:\n",
    "        result.append(func(num))\n",
    "        \n",
    "    return result"
   ]
  },
  {
   "cell_type": "code",
   "execution_count": 36,
   "id": "3881cb54-f854-427d-a6dd-647aa5ebc3bd",
   "metadata": {},
   "outputs": [
    {
     "name": "stdout",
     "output_type": "stream",
     "text": [
      "[1, 4, 9, 16, 25]\n"
     ]
    }
   ],
   "source": [
    "def square(x):\n",
    "    return x * x\n",
    "\n",
    "numbers = [1, 2, 3, 4, 5]\n",
    "\n",
    "squared_numbers = apply_function_to_list(numbers, square)\n",
    "\n",
    "print(squared_numbers)"
   ]
  },
  {
   "cell_type": "markdown",
   "id": "1dbca966-8f24-489f-b963-a26f0cd6c9ef",
   "metadata": {},
   "source": [
    "Built-in functions like len(), max(), and min() in Python provide essential functionality for working with data structures, sequences, and collections. They simplify common operations and make it easier to manipulate and analyze data. Here's a brief description of their roles:\n",
    "\n",
    "1.len(iterable):\n",
    "  .The len() function returns the number of elements in an iterable, such as a string, list, tuple, dictionary, or set.\n",
    "  .It is often used to determine the length or size of a data structure.\n",
    "\n",
    "example"
   ]
  },
  {
   "cell_type": "code",
   "execution_count": 37,
   "id": "7720a5bc-6a6e-4baa-96a1-e5f74d5ca41d",
   "metadata": {},
   "outputs": [
    {
     "name": "stdout",
     "output_type": "stream",
     "text": [
      "5\n"
     ]
    }
   ],
   "source": [
    "my_list = [1, 2, 3, 4, 5]\n",
    "\n",
    "length = len(my_list)\n",
    "print(length)"
   ]
  },
  {
   "cell_type": "markdown",
   "id": "c994fa84-0568-460d-8076-59d6f1f0ea4c",
   "metadata": {},
   "source": [
    "2.max(iterable, [key=default], [default]):\n",
    " .The max() function returns the largest element in an iterable.\n",
    " .You can provide an optional key function to customize the comparison logic.\n",
    " .You can also specify a default value to be returned if the iterable is empty.\n",
    "\n",
    "example:"
   ]
  },
  {
   "cell_type": "code",
   "execution_count": 38,
   "id": "223aaf5f-8b11-4eba-9e8b-ca75f3db5695",
   "metadata": {},
   "outputs": [
    {
     "name": "stdout",
     "output_type": "stream",
     "text": [
      "9\n"
     ]
    }
   ],
   "source": [
    "my_list = [1, 4, 3, 9, 3]\n",
    "\n",
    "max_value = max(my_list)\n",
    "print(max_value)"
   ]
  },
  {
   "cell_type": "markdown",
   "id": "16d5d203-9e09-4206-8f6f-770145e05cd6",
   "metadata": {},
   "source": [
    "3.min(iterable, [key=default], [default]):\n",
    "\n",
    ".The min() function returns the smallest element in an iterable.\n",
    ".Like max(), you can provide an optional key function and a default value.\n",
    "example:"
   ]
  },
  {
   "cell_type": "code",
   "execution_count": 39,
   "id": "2738d7e3-0f0d-4089-a34c-9f388303fabc",
   "metadata": {},
   "outputs": [
    {
     "name": "stdout",
     "output_type": "stream",
     "text": [
      "2\n"
     ]
    }
   ],
   "source": [
    "my_list = [2,4, 5, 7, 9, 8]\n",
    "\n",
    "min_value = min(my_list)\n",
    "print(min_value)"
   ]
  },
  {
   "cell_type": "code",
   "execution_count": 1,
   "id": "220789c2-11fe-4748-944c-b2543ae5b530",
   "metadata": {},
   "outputs": [
    {
     "name": "stdout",
     "output_type": "stream",
     "text": [
      "[2, 4, 6, 8, 10]\n"
     ]
    }
   ],
   "source": [
    "def double(x):\n",
    "    return x * 2\n",
    "\n",
    "numbers = [1, 2, 3, 4, 5]\n",
    "\n",
    "double_numbers_list = list(map(double, numbers))\n",
    "\n",
    "print(double_numbers_list)"
   ]
  },
  {
   "cell_type": "markdown",
   "id": "c2436e11-409f-45f5-82b9-8726f647b261",
   "metadata": {},
   "source": [
    "The filter() function in Python is a built-in function that is used to filter elements from an iterable (e.g., a list, tuple, or any iterable) based on a given function, called a predicate. It returns an iterator that contains only the elements for which the predicate function returns True.\n",
    "\n",
    "Here's the general syntax of the filter() function:\n",
    "\n",
    "filter(function, iterable)\n"
   ]
  },
  {
   "cell_type": "code",
   "execution_count": 2,
   "id": "31f97c59-ca72-4bd4-bc34-62765734f66b",
   "metadata": {},
   "outputs": [
    {
     "name": "stdout",
     "output_type": "stream",
     "text": [
      "[2, 4, 6, 8, 10]\n"
     ]
    }
   ],
   "source": [
    "numbers = [1, 2, 3, 4, 5, 6, 7, 8, 9, 10]\n",
    "\n",
    "def is_even(x):\n",
    "    return x % 2 ==0\n",
    "\n",
    "even_numbers_list = list(filter(is_even, numbers))\n",
    "print(even_numbers_list)"
   ]
  },
  {
   "cell_type": "code",
   "execution_count": 3,
   "id": "131ddc82-495e-4090-a00c-c4e25b2a7306",
   "metadata": {},
   "outputs": [
    {
     "name": "stdout",
     "output_type": "stream",
     "text": [
      "The product of all elements in the list is: 120\n"
     ]
    }
   ],
   "source": [
    "from functools import reduce\n",
    "\n",
    "numbers = [1, 2, 3, 4, 5]\n",
    "\n",
    "def multiply(x, y):\n",
    "    return x * y\n",
    "\n",
    "product = reduce(multiply, numbers)\n",
    "\n",
    "print(f\"The product of all elements in the list is: {product}\")"
   ]
  },
  {
   "cell_type": "markdown",
   "id": "4a386093-c461-49d3-af85-06afbd860da3",
   "metadata": {},
   "source": [
    "Docstrings in Python are used to provide documentation and descriptive information about functions, classes, methods, or modules. They serve as a way to explain what the code does, describe the parameters, return values, and provide examples of usage. Properly documenting your code with docstrings makes it more readable, understandable, and helps other developers (and your future self) use and maintain the code effectively.\n",
    "\n",
    "Here's how to write docstrings in Python:\n",
    "\n",
    "1.Placement: Docstrings are placed as the first statement in a function, class, method, or module. They are enclosed within triple quotes (''' or \"\"\") and immediately follow the definition line.\n",
    "2.Placement: Docstrings are placed as the first statement in a function, class, method, or module. They are enclosed within triple quotes (''' or \"\"\") and immediately follow the definition line.\n",
    "\n",
    ".A concise one-line description of the function's purpose.\n",
    ".More detailed information about the function's behavior, including explanations of parameters and return values.\n",
    "\n",
    ".Optionally, examples of how to use the function.\n",
    "Here's an example of a well-documented function with a docstring:\n",
    "\n",
    "python\n"
   ]
  },
  {
   "cell_type": "code",
   "execution_count": 4,
   "id": "4293fb46-bc39-4305-8b66-1a080de9c636",
   "metadata": {},
   "outputs": [],
   "source": [
    "def add(x, y):\n",
    "    \"\"\"\n",
    "    Add two numbers together.\n",
    "    \n",
    "    Args:\n",
    "        x (int): The first number.\n",
    "        y (int): The second number.\n",
    "        \n",
    "   Returns:\n",
    "       int: The sum of x and y.\n",
    "       \n",
    "   \"\"\"\n",
    "    return x + y"
   ]
  },
  {
   "cell_type": "code",
   "execution_count": 5,
   "id": "cf3bf6ea-3225-4fc8-8fd9-0883889c0a72",
   "metadata": {},
   "outputs": [
    {
     "data": {
      "text/plain": [
       "6"
      ]
     },
     "execution_count": 5,
     "metadata": {},
     "output_type": "execute_result"
    }
   ],
   "source": [
    "add(2, 4)"
   ]
  },
  {
   "cell_type": "code",
   "execution_count": 6,
   "id": "f834b2b6-ccf1-431d-94d2-9903e5691c9a",
   "metadata": {},
   "outputs": [
    {
     "name": "stdout",
     "output_type": "stream",
     "text": [
      "Help on function add in module __main__:\n",
      "\n",
      "add(x, y)\n",
      "     Add two numbers together.\n",
      "     \n",
      "     Args:\n",
      "         x (int): The first number.\n",
      "         y (int): The second number.\n",
      "         \n",
      "    Returns:\n",
      "        int: The sum of x and y.\n",
      "\n"
     ]
    }
   ],
   "source": [
    "help(add)"
   ]
  },
  {
   "cell_type": "markdown",
   "id": "2b7f2a6d-cfef-48a8-acf3-7a1a88ad942f",
   "metadata": {},
   "source": [
    "Naming functions and variables in Python is crucial for writing clean, readable, and maintainable code. Following established naming conventions and guidelines helps make your code more understandable to others and reduces the chance of naming conflicts or confusion. Here are some best practices for naming functions and variables in Python:\n",
    "1. Use Descriptive and Meaningful Names:\n",
    "\n",
    ".Choose names that clearly describe the purpose or functionality of the function or variable.\n",
    "\n",
    ".Avoid single-character or overly generic names (e.g., x, temp, foo), unless they have a well-defined and widely recognized meaning in a specific context.\n",
    "\n",
    "2. Follow Naming Conventions:\n",
    ".Follow the Python PEP 8 style guide, which recommends the following conventions:\n",
    "\n",
    ".Function and variable names should be lowercase with words separated by underscores (snake_case).\n",
    "\n",
    ".Constants (variables whose values should not change) should be in ALL_CAPS with underscores (e.g., MAX_SIZE, PI).\n",
    "\n",
    ".Class names should use CamelCase (CapWords).\n",
    ".Private variables and functions should start with a single underscore (e.g., _private_var), and strongly private variables and functions should start with two underscores (e.g., __strong_private_var).\n",
    "\n",
    "3. Be Consistent:\n",
    ".Maintain consistency in your naming conventions throughout your codebase. If you choose one style, stick to it consistently.\n",
    "\n",
    "4. Use Verb-Noun Naming for Functions:\n",
    ".Function names should typically start with a verb that describes the action the function performs, followed by a noun that represents the subject of the action. For example: calculate_area(), open_file(), validate_input().\n",
    "\n",
    "5. Choose Intuitive Variable Names:\n",
    "\n",
    "Variable names should convey the meaning and purpose of the data they hold. For example, use user_age instead of u_a.\n",
    "\n",
    "6. Avoid Reserved Words:\n",
    "\n",
    "Do not use Python's reserved words (e.g., if, for, while, class) as function or variable names.\n",
    "\n",
    "7. Use Plural for Collections:\n",
    "\n",
    "When naming variables that represent collections (e.g., lists, sets, dictionaries), use plural nouns to indicate that they contain multiple items. For example: users, colors.\n",
    "\n",
    "8. Avoid Acronyms and Abbreviations:\n",
    "\n",
    "While some common acronyms (e.g., HTML, URL) are widely recognized, it's generally better to use descriptive names instead of excessive abbreviations. For example, use url instead of u.\n",
    "\n",
    "9. Be Mindful of Scope:\n",
    "\n",
    "Choose variable names that reflect their scope and purpose. Local variables within a function can have shorter, context-specific names, while global variables should be more descriptive.\n",
    "\n",
    "10. Use Meaningful Parameters:\n",
    "\n",
    ". When defining function parameters, give them descriptive names that convey their purpose in the function.\n",
    "\n",
    "11. Document Your Code:\n",
    "\n",
    ".- Include docstrings (as discussed in a previous response) to provide additional context and explanations for functions and classes.\n",
    "\n",
    "12. Review and Refactor:\n",
    "\n",
    ".- Periodically review your codebase for naming inconsistencies or opportunities for improvement, and be willing to refactor and improve names as needed.\n",
    "\n"
   ]
  },
  {
   "cell_type": "code",
   "execution_count": null,
   "id": "27672fb7-c08b-406c-8ba5-013f8f9d091e",
   "metadata": {},
   "outputs": [],
   "source": []
  }
 ],
 "metadata": {
  "kernelspec": {
   "display_name": "Python 3 (ipykernel)",
   "language": "python",
   "name": "python3"
  },
  "language_info": {
   "codemirror_mode": {
    "name": "ipython",
    "version": 3
   },
   "file_extension": ".py",
   "mimetype": "text/x-python",
   "name": "python",
   "nbconvert_exporter": "python",
   "pygments_lexer": "ipython3",
   "version": "3.10.8"
  }
 },
 "nbformat": 4,
 "nbformat_minor": 5
}
